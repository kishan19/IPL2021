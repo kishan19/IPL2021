{
 "cells": [
  {
   "cell_type": "code",
   "execution_count": 43,
   "id": "2b1248bd",
   "metadata": {},
   "outputs": [],
   "source": [
    "import pandas as pd\n",
    "import numpy as np\n",
    "import math\n",
    "import requests\n",
    "from bs4 import BeautifulSoup as soup\n",
    "import re"
   ]
  },
  {
   "cell_type": "code",
   "execution_count": 2,
   "id": "b933bea0",
   "metadata": {},
   "outputs": [
    {
     "name": "stderr",
     "output_type": "stream",
     "text": [
      "/Users/kishan/Desktop/IPL/.ipl/lib/python3.8/site-packages/IPython/core/interactiveshell.py:3165: DtypeWarning: Columns (1) have mixed types.Specify dtype option on import or set low_memory=False.\n",
      "  has_raised = await self.run_ast_nodes(code_ast.body, cell_name,\n"
     ]
    }
   ],
   "source": [
    "cricsheet_df=pd.read_csv('./data/all_matches.csv')"
   ]
  },
  {
   "cell_type": "code",
   "execution_count": 3,
   "id": "ceb08855",
   "metadata": {},
   "outputs": [],
   "source": [
    "def phase_cat(over_number):\n",
    "    '''Determine phase'''\n",
    "    if over_number<=6:\n",
    "        phase=\"PowerPlay\"\n",
    "    if (over_number>6) & (over_number<=15):\n",
    "        phase=\"Middle overs\"\n",
    "    if over_number>15:\n",
    "        phase=\"Death overs\"\n",
    "    return phase"
   ]
  },
  {
   "cell_type": "code",
   "execution_count": 4,
   "id": "eca324b5",
   "metadata": {},
   "outputs": [
    {
     "name": "stdout",
     "output_type": "stream",
     "text": [
      "count                   47289\n",
      "unique                    161\n",
      "top       2020-10-18 00:00:00\n",
      "freq                      520\n",
      "first     2018-04-07 00:00:00\n",
      "last      2021-04-23 00:00:00\n",
      "Name: start_date, dtype: object\n"
     ]
    },
    {
     "name": "stderr",
     "output_type": "stream",
     "text": [
      "<ipython-input-4-522116867acb>:3: FutureWarning: Treating datetime data as categorical rather than numeric in `.describe` is deprecated and will be removed in a future version of pandas. Specify `datetime_is_numeric=True` to silence this warning and adopt the future behavior now.\n",
      "  print(cricsheet_df.loc[cricsheet_df['start_date']>='2018','start_date'].describe(include='all'))\n"
     ]
    }
   ],
   "source": [
    "cricsheet_df.drop(columns=['other_wicket_type','other_player_dismissed'],axis=1,inplace=True)\n",
    "cricsheet_df['start_date']=pd.to_datetime(cricsheet_df['start_date'])\n",
    "print(cricsheet_df.loc[cricsheet_df['start_date']>='2018','start_date'].describe(include='all'))\n",
    "cdf=cricsheet_df.loc[cricsheet_df['start_date']>='2018'].reset_index(drop=True)\n",
    "cdf=cdf.loc[cdf['innings']<=2]\n",
    "cdf.loc[cdf['batting_team']=='Delhi Daredevils','batting_team']='Delhi Capitals'\n",
    "cdf.loc[cdf['bowling_team']=='Delhi Daredevils','bowling_team']='Delhi Capitals'\n",
    "cdf.loc[cdf['batting_team']=='Kings XI Punjab','batting_team']='Punjab Kings'\n",
    "cdf.loc[cdf['bowling_team']=='Kings XI Punjab','bowling_team']='Punjab Kings'\n",
    "cdf.drop(columns=['wides','noballs','byes','legbyes','penalty'],inplace=True)\n",
    "cdf['total_runs']=cdf['runs_off_bat']+cdf['extras']\n",
    "##Get over number\n",
    "cdf['over_number']=cdf['ball'].apply(lambda x:int(math.ceil(x)))\n"
   ]
  },
  {
   "cell_type": "code",
   "execution_count": 5,
   "id": "cc6da591",
   "metadata": {},
   "outputs": [],
   "source": [
    "cdf['phase']=cdf['over_number'].apply(phase_cat)"
   ]
  },
  {
   "cell_type": "code",
   "execution_count": 6,
   "id": "30477a66",
   "metadata": {},
   "outputs": [],
   "source": [
    "cdf['wicket_fallen']=cdf['wicket_type'].apply(lambda x:0 if pd.isnull(x) else 1)"
   ]
  },
  {
   "cell_type": "code",
   "execution_count": 7,
   "id": "da3967d4",
   "metadata": {},
   "outputs": [],
   "source": [
    "cdf['pair_at_crease']=cdf.apply(lambda x:x['striker']+'-'+x['non_striker'],axis=1)"
   ]
  },
  {
   "cell_type": "code",
   "execution_count": 8,
   "id": "d0f7bca0",
   "metadata": {},
   "outputs": [],
   "source": [
    "cdf['batting_pair']=cdf['pair_at_crease'].apply(lambda x:list(set(x.split('-'))))"
   ]
  },
  {
   "cell_type": "code",
   "execution_count": 9,
   "id": "449e102c",
   "metadata": {},
   "outputs": [],
   "source": [
    "cdf['batting_pair']=cdf['batting_pair'].apply(lambda x:str(x[0]+'-'+x[1]) if len(x)>=2 else x)"
   ]
  },
  {
   "cell_type": "markdown",
   "id": "38243762",
   "metadata": {},
   "source": [
    "### Update player database"
   ]
  },
  {
   "cell_type": "code",
   "execution_count": 10,
   "id": "a2981038",
   "metadata": {},
   "outputs": [],
   "source": [
    "ipl_players=pd.DataFrame(cdf.loc[:,['striker','non_striker','bowler']].drop_duplicates().melt()['value'].drop_duplicates().tolist(),columns=['ipl_players'])"
   ]
  },
  {
   "cell_type": "code",
   "execution_count": 89,
   "id": "345a6404",
   "metadata": {},
   "outputs": [
    {
     "data": {
      "text/html": [
       "<div>\n",
       "<style scoped>\n",
       "    .dataframe tbody tr th:only-of-type {\n",
       "        vertical-align: middle;\n",
       "    }\n",
       "\n",
       "    .dataframe tbody tr th {\n",
       "        vertical-align: top;\n",
       "    }\n",
       "\n",
       "    .dataframe thead th {\n",
       "        text-align: right;\n",
       "    }\n",
       "</style>\n",
       "<table border=\"1\" class=\"dataframe\">\n",
       "  <thead>\n",
       "    <tr style=\"text-align: right;\">\n",
       "      <th></th>\n",
       "      <th>ipl_players</th>\n",
       "    </tr>\n",
       "  </thead>\n",
       "  <tbody>\n",
       "    <tr>\n",
       "      <th>0</th>\n",
       "      <td>V Kohli</td>\n",
       "    </tr>\n",
       "    <tr>\n",
       "      <th>1</th>\n",
       "      <td>PA Patel</td>\n",
       "    </tr>\n",
       "    <tr>\n",
       "      <th>2</th>\n",
       "      <td>MM Ali</td>\n",
       "    </tr>\n",
       "    <tr>\n",
       "      <th>3</th>\n",
       "      <td>AB de Villiers</td>\n",
       "    </tr>\n",
       "    <tr>\n",
       "      <th>4</th>\n",
       "      <td>SO Hetmyer</td>\n",
       "    </tr>\n",
       "    <tr>\n",
       "      <th>...</th>\n",
       "      <td>...</td>\n",
       "    </tr>\n",
       "    <tr>\n",
       "      <th>238</th>\n",
       "      <td>Monu Kumar</td>\n",
       "    </tr>\n",
       "    <tr>\n",
       "      <th>239</th>\n",
       "      <td>AF Milne</td>\n",
       "    </tr>\n",
       "    <tr>\n",
       "      <th>240</th>\n",
       "      <td>LI Meriwala</td>\n",
       "    </tr>\n",
       "    <tr>\n",
       "      <th>241</th>\n",
       "      <td>Jalaj S Saxena</td>\n",
       "    </tr>\n",
       "    <tr>\n",
       "      <th>242</th>\n",
       "      <td>KW Richardson</td>\n",
       "    </tr>\n",
       "  </tbody>\n",
       "</table>\n",
       "<p>243 rows × 1 columns</p>\n",
       "</div>"
      ],
      "text/plain": [
       "        ipl_players\n",
       "0           V Kohli\n",
       "1          PA Patel\n",
       "2            MM Ali\n",
       "3    AB de Villiers\n",
       "4        SO Hetmyer\n",
       "..              ...\n",
       "238      Monu Kumar\n",
       "239        AF Milne\n",
       "240     LI Meriwala\n",
       "241  Jalaj S Saxena\n",
       "242   KW Richardson\n",
       "\n",
       "[243 rows x 1 columns]"
      ]
     },
     "execution_count": 89,
     "metadata": {},
     "output_type": "execute_result"
    }
   ],
   "source": [
    "ipl_players"
   ]
  },
  {
   "cell_type": "code",
   "execution_count": 25,
   "id": "9d866eab",
   "metadata": {},
   "outputs": [],
   "source": [
    "from azure.storage.blob import BlobServiceClient"
   ]
  },
  {
   "cell_type": "code",
   "execution_count": 26,
   "id": "07df080f",
   "metadata": {},
   "outputs": [],
   "source": [
    "connect_str='DefaultEndpointsProtocol=https;AccountName=kishcricket21;AccountKey=wYdGh/fMOb2B/P2RmHPqwPGBYy65c+jpvw63hcNZNHwC03bNJNrYrh8+NhjB7pQgCaq84QSdrE27PbIN9uF1wQ==;EndpointSuffix=core.windows.net'"
   ]
  },
  {
   "cell_type": "code",
   "execution_count": 27,
   "id": "a40dd590",
   "metadata": {},
   "outputs": [],
   "source": [
    "blob_service_client = BlobServiceClient.from_connection_string(connect_str)"
   ]
  },
  {
   "cell_type": "code",
   "execution_count": 28,
   "id": "1176f43c",
   "metadata": {},
   "outputs": [
    {
     "data": {
      "text/plain": [
       "[{'name': 'playerdb', 'last_modified': datetime.datetime(2021, 4, 24, 17, 7, 58, tzinfo=datetime.timezone.utc), 'etag': '\"0x8D9074382E36D3A\"', 'lease': {'status': 'unlocked', 'state': 'available', 'duration': None}, 'public_access': 'container', 'has_immutability_policy': False, 'deleted': None, 'version': None, 'has_legal_hold': False, 'metadata': None, 'encryption_scope': <azure.storage.blob._models.ContainerEncryptionScope object at 0x7f8bfaa741c0>}]"
      ]
     },
     "execution_count": 28,
     "metadata": {},
     "output_type": "execute_result"
    }
   ],
   "source": [
    "list(blob_service_client.list_containers())"
   ]
  },
  {
   "cell_type": "code",
   "execution_count": 29,
   "id": "826264ba",
   "metadata": {},
   "outputs": [],
   "source": [
    "blob_client = blob_service_client.get_blob_client(container='playerdb',blob='players_formatted.xlsx')"
   ]
  },
  {
   "cell_type": "code",
   "execution_count": 30,
   "id": "b96c123a",
   "metadata": {},
   "outputs": [],
   "source": [
    "with open('./data2/players_db.xlsx', \"wb\") as download_file:\n",
    "    download_file.write(blob_client.download_blob().readall())"
   ]
  },
  {
   "cell_type": "code",
   "execution_count": 93,
   "id": "4e1addad",
   "metadata": {},
   "outputs": [],
   "source": [
    "player_df=pd.read_excel('./data2/players_db.xlsx')"
   ]
  },
  {
   "cell_type": "code",
   "execution_count": 94,
   "id": "8f85f1b9",
   "metadata": {},
   "outputs": [],
   "source": [
    "pdf=player_df.loc[player_df['cricsheet_name'].isin(ipl_players['ipl_players'])]['cricsheet_name'].tolist()"
   ]
  },
  {
   "cell_type": "code",
   "execution_count": 95,
   "id": "b24d8919",
   "metadata": {},
   "outputs": [
    {
     "data": {
      "text/plain": [
       "['CH Gayle',\n",
       " 'M Shahrukh Khan',\n",
       " 'JA Richardson',\n",
       " 'Lalit Yadav',\n",
       " 'Virat Singh',\n",
       " 'C Sakariya',\n",
       " 'RP Meredith',\n",
       " 'LI Meriwala',\n",
       " 'Jalaj S Saxena']"
      ]
     },
     "execution_count": 95,
     "metadata": {},
     "output_type": "execute_result"
    }
   ],
   "source": [
    "players_to_add=[i for i in ipl_players['ipl_players'] if i not in pdf]\n",
    "players_to_add"
   ]
  },
  {
   "cell_type": "code",
   "execution_count": 98,
   "id": "c50a9177",
   "metadata": {},
   "outputs": [],
   "source": [
    "google_url=f\"https://www.google.com/search?q=\""
   ]
  },
  {
   "cell_type": "code",
   "execution_count": 96,
   "id": "744b7580",
   "metadata": {},
   "outputs": [],
   "source": [
    "##Build a crawler to compile player data from wikipedia\n",
    "\n",
    "def crawl_player(player):\n",
    "    '''Using a string of the player name, crawl to google and hit the relevant Wiki URL, to store the player attributes and value table\n",
    "    Returns: Dataframe of attributes and values for a particular player'''\n",
    "    \n",
    "    ##Get google results\n",
    "    google_results=requests.get(google_url,params={'q':player+\"cricket wiki\"})\n",
    "\n",
    "    ##Format the google result into soup, so that it can be parsed for the relevant URLs\n",
    "    google_soup=soup(google_results.text,'html.parser')\n",
    "\n",
    "    try:\n",
    "        wiki_url=[links['href'].split('&')[0].split('?q=') for links in google_soup.find_all('a') \n",
    "        if 'en.wikipedia.org/wiki' in links['href']][0][1].strip()\n",
    "    except Exception as ex:\n",
    "        wiki_url=''\n",
    "    #print(wiki_url)\n",
    "    ##If there is no relevant wiki url found\n",
    "    if len(wiki_url)==0:\n",
    "        crawl_result_df=pd.DataFrame({'cricsheet_name':[player],'Result':'No relevant wiki URL found for company from google crawler'},index=[0])\n",
    "        wiki_requests=''\n",
    "    else:\n",
    "        ##Access the relevant player wiki URL\n",
    "        wiki_requests=requests.get(wiki_url)\n",
    "\n",
    "        ##Format wiki page content into a soup\n",
    "    try:\n",
    "        wiki_soup=soup(wiki_requests.text,'html.parser')\n",
    "    except Exception as ex:\n",
    "        wiki_soup=''\n",
    "\n",
    "    ##Get the relevant table element from web page\n",
    "\n",
    "    ##Get the first table element for the page\n",
    "\n",
    "    try:\n",
    "        ##Get the personal information table for the player\n",
    "\n",
    "        right_table=[tbl for tbl in wiki_soup.find_all('table',{'class':'infobox vcard'})][0]\n",
    "\n",
    "    except Exception as ex:\n",
    "        right_table=''\n",
    "        crawl_result_df=pd.DataFrame({'cricsheet_name':[player],'Result':'wiki url not parsed correctly'},index=[0])\n",
    "\n",
    "    ##Handle exception if ther eare no rows found\n",
    "\n",
    "    try:\n",
    "        ##Parse all rows\n",
    "        rows=right_table.find_all('tr')\n",
    "        ##Initialize batting and bowling style attributes\n",
    "        bat_style,bowl_style,full_name='','',''\n",
    "        for r in rows:\n",
    "            ##If row exists with a header, i.e. if there is an attribute then store the value\n",
    "            try:\n",
    "                rowtext=r.find('th').text\n",
    "            except Exception as ex:\n",
    "                rowtext=''\n",
    "                pass\n",
    "\n",
    "            if rowtext=='Bowling':\n",
    "                bowl_style=r.find('td').text\n",
    "            if rowtext=='Batting':\n",
    "                bat_style=r.find('td').text\n",
    "            if \"Full\" in rowtext:\n",
    "                full_name=r.find('td').text\n",
    "\n",
    "        crawl_result_df=pd.DataFrame({'cricsheet_name':[player],'battingStyle':[bat_style],'bowlingStyle':[bowl_style],'fullName':[full_name]})\n",
    "\n",
    "\n",
    "    except Exception as ex:\n",
    "        crawl_result_df=pd.DataFrame({'cricsheet_name':[player],'Result':'attributes values not parsed correctly'},index=[0])\n",
    "\n",
    "    return crawl_result_df\n"
   ]
  },
  {
   "cell_type": "code",
   "execution_count": 99,
   "id": "c7274aac",
   "metadata": {},
   "outputs": [
    {
     "name": "stdout",
     "output_type": "stream",
     "text": [
      "CH Gayle\n",
      "M Shahrukh Khan\n",
      "JA Richardson\n",
      "Lalit Yadav\n",
      "Virat Singh\n",
      "C Sakariya\n",
      "RP Meredith\n",
      "LI Meriwala\n",
      "Jalaj S Saxena\n"
     ]
    }
   ],
   "source": [
    "added_df=pd.DataFrame()\n",
    "\n",
    "for player in players_to_add:\n",
    "    print(player)\n",
    "    df=crawl_player(player)\n",
    "    added_df=pd.concat([added_df,df])"
   ]
  },
  {
   "cell_type": "code",
   "execution_count": 100,
   "id": "96f0779c",
   "metadata": {},
   "outputs": [],
   "source": [
    "def format_batting_styles(bat):\n",
    "    bat=str(bat)\n",
    "    if bat=='':\n",
    "        batstyle=''\n",
    "    if bat=='nan':\n",
    "        batstyle='nan'\n",
    "    if 'Right' in bat:\n",
    "        batstyle='Right-hand bat'\n",
    "    if 'Left' in bat:\n",
    "        batstyle='Left-hand bat'\n",
    "    return batstyle"
   ]
  },
  {
   "cell_type": "code",
   "execution_count": 101,
   "id": "e8f44a57",
   "metadata": {},
   "outputs": [],
   "source": [
    "added_df['battingStyle']=added_df['battingStyle'].apply(format_batting_styles)"
   ]
  },
  {
   "cell_type": "code",
   "execution_count": 109,
   "id": "98c16b1d",
   "metadata": {},
   "outputs": [],
   "source": [
    "##Do manual tagging\n",
    "added_df.to_excel('./data2/added_df.xlsx',index=False)"
   ]
  },
  {
   "cell_type": "code",
   "execution_count": 103,
   "id": "f7f068fc",
   "metadata": {},
   "outputs": [],
   "source": [
    "player_df=pd.concat([player_df,added_df])"
   ]
  },
  {
   "cell_type": "code",
   "execution_count": 107,
   "id": "25b0d222",
   "metadata": {
    "scrolled": true
   },
   "outputs": [],
   "source": [
    "player_df.to_excel('./data2/players_db.xlsx')"
   ]
  },
  {
   "cell_type": "code",
   "execution_count": 111,
   "id": "a109fda2",
   "metadata": {},
   "outputs": [
    {
     "data": {
      "text/html": [
       "<div>\n",
       "<style scoped>\n",
       "    .dataframe tbody tr th:only-of-type {\n",
       "        vertical-align: middle;\n",
       "    }\n",
       "\n",
       "    .dataframe tbody tr th {\n",
       "        vertical-align: top;\n",
       "    }\n",
       "\n",
       "    .dataframe thead th {\n",
       "        text-align: right;\n",
       "    }\n",
       "</style>\n",
       "<table border=\"1\" class=\"dataframe\">\n",
       "  <thead>\n",
       "    <tr style=\"text-align: right;\">\n",
       "      <th></th>\n",
       "      <th>cricsheet_name</th>\n",
       "      <th>battingStyle</th>\n",
       "      <th>bowlingStyle</th>\n",
       "    </tr>\n",
       "  </thead>\n",
       "  <tbody>\n",
       "    <tr>\n",
       "      <th>0</th>\n",
       "      <td>Mohammad Naveed</td>\n",
       "      <td>UAE1</td>\n",
       "      <td>Right-arm medium</td>\n",
       "    </tr>\n",
       "    <tr>\n",
       "      <th>1</th>\n",
       "      <td>Amjad Javed</td>\n",
       "      <td>UAE2</td>\n",
       "      <td>Right-arm medium</td>\n",
       "    </tr>\n",
       "    <tr>\n",
       "      <th>2</th>\n",
       "      <td>Kamran Shazad</td>\n",
       "      <td>UAE3</td>\n",
       "      <td>Right-arm medium-fast</td>\n",
       "    </tr>\n",
       "    <tr>\n",
       "      <th>3</th>\n",
       "      <td>Mohammad Tauqir</td>\n",
       "      <td>UAE4</td>\n",
       "      <td>Off-break</td>\n",
       "    </tr>\n",
       "    <tr>\n",
       "      <th>4</th>\n",
       "      <td>Fahad Alhashmi</td>\n",
       "      <td>UAE5</td>\n",
       "      <td>Right-arm fast-medium</td>\n",
       "    </tr>\n",
       "    <tr>\n",
       "      <th>...</th>\n",
       "      <td>...</td>\n",
       "      <td>...</td>\n",
       "      <td>...</td>\n",
       "    </tr>\n",
       "    <tr>\n",
       "      <th>0</th>\n",
       "      <td>Virat Singh</td>\n",
       "      <td>Left-hand bat</td>\n",
       "      <td>Right-arm leg spin</td>\n",
       "    </tr>\n",
       "    <tr>\n",
       "      <th>0</th>\n",
       "      <td>C Sakariya</td>\n",
       "      <td>Left-hand bat</td>\n",
       "      <td>Left-arm medium-fast</td>\n",
       "    </tr>\n",
       "    <tr>\n",
       "      <th>0</th>\n",
       "      <td>RP Meredith</td>\n",
       "      <td>Right-hand bat</td>\n",
       "      <td>Right-arm fast</td>\n",
       "    </tr>\n",
       "    <tr>\n",
       "      <th>0</th>\n",
       "      <td>LI Meriwala</td>\n",
       "      <td>Left-hand bat</td>\n",
       "      <td>Left-arm fast-medium</td>\n",
       "    </tr>\n",
       "    <tr>\n",
       "      <th>0</th>\n",
       "      <td>Jalaj S Saxena</td>\n",
       "      <td>Right-hand bat</td>\n",
       "      <td>Right arm off break</td>\n",
       "    </tr>\n",
       "  </tbody>\n",
       "</table>\n",
       "<p>3556 rows × 3 columns</p>\n",
       "</div>"
      ],
      "text/plain": [
       "     cricsheet_name    battingStyle           bowlingStyle\n",
       "0   Mohammad Naveed            UAE1       Right-arm medium\n",
       "1       Amjad Javed            UAE2       Right-arm medium\n",
       "2     Kamran Shazad            UAE3  Right-arm medium-fast\n",
       "3   Mohammad Tauqir            UAE4              Off-break\n",
       "4    Fahad Alhashmi            UAE5  Right-arm fast-medium\n",
       "..              ...             ...                    ...\n",
       "0       Virat Singh   Left-hand bat     Right-arm leg spin\n",
       "0        C Sakariya   Left-hand bat   Left-arm medium-fast\n",
       "0       RP Meredith  Right-hand bat         Right-arm fast\n",
       "0       LI Meriwala   Left-hand bat   Left-arm fast-medium\n",
       "0    Jalaj S Saxena  Right-hand bat    Right arm off break\n",
       "\n",
       "[3556 rows x 3 columns]"
      ]
     },
     "execution_count": 111,
     "metadata": {},
     "output_type": "execute_result"
    }
   ],
   "source": [
    "pdf=player_df.loc[:,['cricsheet_name','battingStyle','bowlingStyle']].drop_duplicates()\n",
    "\n",
    "pdf"
   ]
  },
  {
   "cell_type": "code",
   "execution_count": 112,
   "id": "4dab7faa",
   "metadata": {},
   "outputs": [],
   "source": [
    "cdf=cdf.merge(pdf.loc[:,['cricsheet_name','battingStyle']],left_on='striker',right_on='cricsheet_name')"
   ]
  },
  {
   "cell_type": "code",
   "execution_count": 113,
   "id": "ac7665e4",
   "metadata": {},
   "outputs": [],
   "source": [
    "cdf=cdf.merge(pdf.loc[:,['cricsheet_name','bowlingStyle']],left_on='bowler',right_on='cricsheet_name')"
   ]
  },
  {
   "cell_type": "code",
   "execution_count": 114,
   "id": "23daefb5",
   "metadata": {},
   "outputs": [],
   "source": [
    "cdf=cdf.loc[:,['match_id','season','start_date','venue','innings','ball','over_number','batting_team','bowling_team','wicket_type','runs_off_bat','extras','total_runs','phase','wicket_fallen','pair_at_crease','batting_pair','striker','battingStyle','bowler','bowlingStyle']]"
   ]
  },
  {
   "cell_type": "markdown",
   "id": "4581600e",
   "metadata": {},
   "source": [
    "#### Identify day games"
   ]
  },
  {
   "cell_type": "code",
   "execution_count": 280,
   "id": "e3ea0a57",
   "metadata": {},
   "outputs": [],
   "source": [
    "cdf_daydf=cdf.loc[:,['match_id','start_date']].drop_duplicates()\n",
    "cdf_daydf['m']=1\n",
    "cdf_daydf.sort_values(by='start_date',inplace=True)\n",
    "cdf2=cdf_daydf.groupby('start_date').rank()\n",
    "cdf_daydf['timing']='night'\n",
    "cdf_daydf.loc[(cdf2['match_id']==1.0)&(cdf2['m']==1.5),'timing']='day'\n",
    "cdf=cdf.merge(cdf_daydf.loc[:,['match_id','timing']],on='match_id')"
   ]
  },
  {
   "cell_type": "code",
   "execution_count": 294,
   "id": "ec2f3dc8",
   "metadata": {},
   "outputs": [],
   "source": [
    "cdf.to_excel('./data2/ipl2021.xlsx',index=False)"
   ]
  },
  {
   "cell_type": "code",
   "execution_count": null,
   "id": "ce8f024a",
   "metadata": {},
   "outputs": [],
   "source": []
  },
  {
   "cell_type": "code",
   "execution_count": null,
   "id": "9eea420c",
   "metadata": {},
   "outputs": [],
   "source": []
  },
  {
   "cell_type": "code",
   "execution_count": null,
   "id": "9e807d6e",
   "metadata": {},
   "outputs": [],
   "source": []
  },
  {
   "cell_type": "code",
   "execution_count": null,
   "id": "5cece4f7",
   "metadata": {},
   "outputs": [],
   "source": []
  },
  {
   "cell_type": "code",
   "execution_count": null,
   "id": "7da751e9",
   "metadata": {},
   "outputs": [],
   "source": []
  },
  {
   "cell_type": "code",
   "execution_count": null,
   "id": "bfd13044",
   "metadata": {},
   "outputs": [],
   "source": []
  },
  {
   "cell_type": "code",
   "execution_count": 118,
   "id": "b297030e",
   "metadata": {},
   "outputs": [],
   "source": [
    "espn_url='https://search.espncricinfo.com/ci/content/site/search.html?search={};type=player'"
   ]
  },
  {
   "cell_type": "code",
   "execution_count": 119,
   "id": "a1c97960",
   "metadata": {},
   "outputs": [],
   "source": [
    "espn_search_url=espn_url.format(player)"
   ]
  },
  {
   "cell_type": "code",
   "execution_count": 120,
   "id": "a7c3daaf",
   "metadata": {},
   "outputs": [
    {
     "data": {
      "text/plain": [
       "'https://search.espncricinfo.com/ci/content/site/search.html?search=Jalaj S Saxena;type=player'"
      ]
     },
     "execution_count": 120,
     "metadata": {},
     "output_type": "execute_result"
    }
   ],
   "source": [
    "espn_search_url"
   ]
  },
  {
   "cell_type": "code",
   "execution_count": 64,
   "id": "a99ad4a9",
   "metadata": {},
   "outputs": [],
   "source": [
    "search_page=requests.get(espn_search_url)"
   ]
  },
  {
   "cell_type": "code",
   "execution_count": 66,
   "id": "411a1a41",
   "metadata": {},
   "outputs": [],
   "source": [
    "search_soup=soup(search_page.text,'html.parser')"
   ]
  },
  {
   "cell_type": "code",
   "execution_count": 70,
   "id": "d31132a9",
   "metadata": {},
   "outputs": [
    {
     "data": {
      "text/plain": [
       "['https://www.espncricinfo.com/ci/content/player/index.html',\n",
       " '/southafrica/content/player/545467.html']"
      ]
     },
     "execution_count": 70,
     "metadata": {},
     "output_type": "execute_result"
    }
   ],
   "source": [
    "[a['href'] for a in search_soup.find_all('a') if 'content/player' in a['href']]"
   ]
  },
  {
   "cell_type": "code",
   "execution_count": 38,
   "id": "21c404de",
   "metadata": {},
   "outputs": [],
   "source": [
    "player_url='https://www.espncricinfo.com/player/junior-dala-545467'"
   ]
  },
  {
   "cell_type": "code",
   "execution_count": 40,
   "id": "d0888fec",
   "metadata": {},
   "outputs": [],
   "source": [
    "r=requests.get(player_url)"
   ]
  },
  {
   "cell_type": "code",
   "execution_count": 44,
   "id": "9bd72c97",
   "metadata": {},
   "outputs": [],
   "source": [
    "profile_soup=soup(r.text,'html.parser')"
   ]
  },
  {
   "cell_type": "code",
   "execution_count": 48,
   "id": "49492afc",
   "metadata": {},
   "outputs": [],
   "source": [
    "profile_texts=['Full Name','Born','Age','Batting Style','Bowling Style']"
   ]
  },
  {
   "cell_type": "code",
   "execution_count": 47,
   "id": "4ddf948d",
   "metadata": {},
   "outputs": [
    {
     "data": {
      "text/plain": [
       "[<p class=\"text-uppercase gray-700 mb-0 pb-0-5 player-card-heading\">Full Name</p>,\n",
       " <p class=\"text-uppercase gray-700 mb-0 pb-0-5 player-card-heading\">Born</p>,\n",
       " <p class=\"text-uppercase gray-700 mb-0 pb-0-5 player-card-heading\">Age</p>,\n",
       " <p class=\"text-uppercase gray-700 mb-0 pb-0-5 player-card-heading\">Batting Style</p>,\n",
       " <p class=\"text-uppercase gray-700 mb-0 pb-0-5 player-card-heading\">Bowling Style</p>,\n",
       " <p class=\"text-uppercase gray-700 mb-0 pb-0-5 player-card-heading\">Playing Role</p>]"
      ]
     },
     "execution_count": 47,
     "metadata": {},
     "output_type": "execute_result"
    }
   ],
   "source": [
    "profile_soup.find_all('p',{'class':'text-uppercase gray-700 mb-0 pb-0-5 player-card-heading'})"
   ]
  },
  {
   "cell_type": "code",
   "execution_count": 50,
   "id": "0418a578",
   "metadata": {},
   "outputs": [
    {
     "data": {
      "text/plain": [
       "['Carl Junior Dala',\n",
       " 'December 29, 1989, Lusaka, Zambia',\n",
       " '31y 116d',\n",
       " 'Right hand bat',\n",
       " 'Right arm medium',\n",
       " 'Bowler']"
      ]
     },
     "execution_count": 50,
     "metadata": {},
     "output_type": "execute_result"
    }
   ],
   "source": [
    "[p.text for p in profile_soup.find_all('h5',{'class':'player-card-description gray-900'})]"
   ]
  },
  {
   "cell_type": "code",
   "execution_count": null,
   "id": "24a19c1a",
   "metadata": {},
   "outputs": [],
   "source": []
  }
 ],
 "metadata": {
  "kernelspec": {
   "display_name": "Python 3",
   "language": "python",
   "name": "python3"
  },
  "language_info": {
   "codemirror_mode": {
    "name": "ipython",
    "version": 3
   },
   "file_extension": ".py",
   "mimetype": "text/x-python",
   "name": "python",
   "nbconvert_exporter": "python",
   "pygments_lexer": "ipython3",
   "version": "3.8.9"
  }
 },
 "nbformat": 4,
 "nbformat_minor": 5
}
