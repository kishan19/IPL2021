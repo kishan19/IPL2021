{
 "cells": [
  {
   "cell_type": "markdown",
   "id": "6f3ae31d",
   "metadata": {},
   "source": [
    "#### Steps in this notebook\n",
    "- Clean Cricsheet data, create basic model\n",
    "- Run basic model for testing"
   ]
  },
  {
   "cell_type": "code",
   "execution_count": 8,
   "id": "6d71bfb3",
   "metadata": {},
   "outputs": [],
   "source": [
    "import pandas as pd\n",
    "import numpy as np\n",
    "import math\n",
    "\n",
    "import sklearn\n",
    "\n",
    "from sklearn.linear_model import LinearRegression\n",
    "\n",
    "from sklearn.preprocessing import LabelEncoder\n",
    "\n",
    "from sklearn.preprocessing import MinMaxScaler"
   ]
  },
  {
   "cell_type": "code",
   "execution_count": 9,
   "id": "683c8f33",
   "metadata": {},
   "outputs": [
    {
     "name": "stderr",
     "output_type": "stream",
     "text": [
      "/Users/kishan/Desktop/IPL/.ipl/lib/python3.8/site-packages/IPython/core/interactiveshell.py:3165: DtypeWarning: Columns (1) have mixed types.Specify dtype option on import or set low_memory=False.\n",
      "  has_raised = await self.run_ast_nodes(code_ast.body, cell_name,\n"
     ]
    }
   ],
   "source": [
    "cricsheet_df=pd.read_csv('./data/all_matches.csv')"
   ]
  },
  {
   "cell_type": "code",
   "execution_count": 3,
   "id": "aaba1109",
   "metadata": {},
   "outputs": [],
   "source": [
    "###Load input format dataframe\n",
    "\n",
    "# test_df=pd.read_csv('./submission/inputFile.csv')\n",
    "\n",
    "# test_df\n",
    "\n",
    "##Venue needs to go through standardizer\n",
    "## innigns is either 1 or 2\n",
    "## Batting team and bowling team better to go through standardizer, since KXIP has changed names between seasons\n",
    "## Batsmen list must be minimum 2 and bowlers list must be minimum 2\n",
    "## Need to standardize batter and bowlers\n",
    "## Batting and bowling types of batters and bowlers to be inferred from custom module"
   ]
  },
  {
   "cell_type": "markdown",
   "id": "8a1f113c",
   "metadata": {},
   "source": [
    "#### Subsetting the given data\n",
    "\n",
    "- Remove seasons before 2018\n",
    "- Remove super over innings (innings>=3)\n",
    "- Remove unnecessary columns"
   ]
  },
  {
   "cell_type": "code",
   "execution_count": 10,
   "id": "88594eb3",
   "metadata": {},
   "outputs": [],
   "source": [
    "##no use of other wicket type and other player dismissed columns\n",
    "assert cricsheet_df.loc[~pd.isnull(cricsheet_df['other_wicket_type'])].shape[0]==0\n",
    "assert cricsheet_df.loc[~pd.isnull(cricsheet_df['other_player_dismissed'])].shape[0]==0"
   ]
  },
  {
   "cell_type": "code",
   "execution_count": 11,
   "id": "68680eb5",
   "metadata": {},
   "outputs": [],
   "source": [
    "cricsheet_df.drop(columns=['other_wicket_type','other_player_dismissed'],axis=1,inplace=True)"
   ]
  },
  {
   "cell_type": "code",
   "execution_count": 12,
   "id": "2620263f",
   "metadata": {},
   "outputs": [],
   "source": [
    "cricsheet_df['start_date']=pd.to_datetime(cricsheet_df['start_date'])"
   ]
  },
  {
   "cell_type": "code",
   "execution_count": 13,
   "id": "8f960949",
   "metadata": {},
   "outputs": [
    {
     "name": "stderr",
     "output_type": "stream",
     "text": [
      "<ipython-input-13-ff7ecb1db089>:2: FutureWarning: Treating datetime data as categorical rather than numeric in `.describe` is deprecated and will be removed in a future version of pandas. Specify `datetime_is_numeric=True` to silence this warning and adopt the future behavior now.\n",
      "  cricsheet_df.loc[cricsheet_df['start_date']>='2018','start_date'].describe(include='all')\n"
     ]
    },
    {
     "data": {
      "text/plain": [
       "count                   48514\n",
       "unique                    165\n",
       "top       2020-10-18 00:00:00\n",
       "freq                      520\n",
       "first     2018-04-07 00:00:00\n",
       "last      2021-04-27 00:00:00\n",
       "Name: start_date, dtype: object"
      ]
     },
     "execution_count": 13,
     "metadata": {},
     "output_type": "execute_result"
    }
   ],
   "source": [
    "##Filter from 2018 April 7th\n",
    "cricsheet_df.loc[cricsheet_df['start_date']>='2018','start_date'].describe(include='all')"
   ]
  },
  {
   "cell_type": "code",
   "execution_count": 14,
   "id": "35952357",
   "metadata": {},
   "outputs": [],
   "source": [
    "cdf=cricsheet_df.loc[cricsheet_df['start_date']>='2018'].reset_index(drop=True)"
   ]
  },
  {
   "cell_type": "markdown",
   "id": "e7a00895",
   "metadata": {},
   "source": [
    "### EDA"
   ]
  },
  {
   "cell_type": "code",
   "execution_count": 15,
   "id": "f43db730",
   "metadata": {
    "scrolled": true
   },
   "outputs": [
    {
     "data": {
      "text/plain": [
       "{'Arun Jaitley Stadium',\n",
       " 'Dr. Y.S. Rajasekhara Reddy ACA-VDCA Cricket Stadium',\n",
       " 'Dubai International Cricket Stadium',\n",
       " 'Eden Gardens',\n",
       " 'Holkar Cricket Stadium',\n",
       " 'M.Chinnaswamy Stadium',\n",
       " 'MA Chidambaram Stadium',\n",
       " 'MA Chidambaram Stadium, Chepauk, Chennai',\n",
       " 'Maharashtra Cricket Association Stadium',\n",
       " 'Narendra Modi Stadium, Ahmedabad',\n",
       " 'Punjab Cricket Association IS Bindra Stadium',\n",
       " 'Rajiv Gandhi International Stadium',\n",
       " 'Sawai Mansingh Stadium',\n",
       " 'Sharjah Cricket Stadium',\n",
       " 'Sheikh Zayed Stadium',\n",
       " 'Wankhede Stadium',\n",
       " 'Wankhede Stadium, Mumbai'}"
      ]
     },
     "execution_count": 15,
     "metadata": {},
     "output_type": "execute_result"
    }
   ],
   "source": [
    "##List of all venues in this\n",
    "set(cdf['venue'])"
   ]
  },
  {
   "cell_type": "markdown",
   "id": "795a03c3",
   "metadata": {},
   "source": [
    "#### There are 231 different IPL players across teams from 2018. "
   ]
  },
  {
   "cell_type": "code",
   "execution_count": 16,
   "id": "2a6b0100",
   "metadata": {},
   "outputs": [
    {
     "data": {
      "text/plain": [
       "(243,\n",
       " ['V Kohli',\n",
       "  'PA Patel',\n",
       "  'MM Ali',\n",
       "  'AB de Villiers',\n",
       "  'SO Hetmyer',\n",
       "  'S Dube',\n",
       "  'C de Grandhomme',\n",
       "  'NA Saini',\n",
       "  'YS Chahal',\n",
       "  'UT Yadav',\n",
       "  'Mohammed Siraj',\n",
       "  'SR Watson',\n",
       "  'AT Rayudu',\n",
       "  'SK Raina',\n",
       "  'KM Jadhav',\n",
       "  'RA Jadeja',\n",
       "  'DA Warner',\n",
       "  'JM Bairstow',\n",
       "  'V Shankar',\n",
       "  'YK Pathan',\n",
       "  'MK Pandey',\n",
       "  'CA Lynn',\n",
       "  'N Rana',\n",
       "  'RV Uthappa',\n",
       "  'KD Karthik',\n",
       "  'AD Russell',\n",
       "  'Shubman Gill',\n",
       "  'PP Shaw',\n",
       "  'S Dhawan',\n",
       "  'SS Iyer',\n",
       "  'CA Ingram',\n",
       "  'RR Pant',\n",
       "  'KMA Paul',\n",
       "  'AR Patel',\n",
       "  'R Tewatia',\n",
       "  'RG Sharma',\n",
       "  'Q de Kock',\n",
       "  'SA Yadav',\n",
       "  'KA Pollard',\n",
       "  'Yuvraj Singh',\n",
       "  'HH Pandya',\n",
       "  'KH Pandya',\n",
       "  'BCJ Cutting',\n",
       "  'MJ McClenaghan',\n",
       "  'Rasikh Salam',\n",
       "  'KL Rahul',\n",
       "  'MA Agarwal',\n",
       "  'CH Gayle',\n",
       "  'SN Khan',\n",
       "  'N Pooran',\n",
       "  'Mandeep Singh',\n",
       "  'AM Rahane',\n",
       "  'JC Buttler',\n",
       "  'SV Samson',\n",
       "  'SPD Smith',\n",
       "  'RA Tripathi',\n",
       "  'BA Stokes',\n",
       "  'K Gowtham',\n",
       "  'JC Archer',\n",
       "  'JD Unadkat',\n",
       "  'S Gopal',\n",
       "  'DS Kulkarni',\n",
       "  'MS Dhoni',\n",
       "  'DJ Bravo',\n",
       "  'SP Narine',\n",
       "  'DA Miller',\n",
       "  'M Markande',\n",
       "  'JJ Bumrah',\n",
       "  'KS Williamson',\n",
       "  'Rashid Khan',\n",
       "  'NS Naik',\n",
       "  'PP Chawla',\n",
       "  'Kuldeep Yadav',\n",
       "  'GH Vihari',\n",
       "  'P Ray Barman',\n",
       "  'SM Curran',\n",
       "  'GC Viljoen',\n",
       "  'R Ashwin',\n",
       "  'M Ashwin',\n",
       "  'Mohammed Shami',\n",
       "  'CH Morris',\n",
       "  'HV Patel',\n",
       "  'Avesh Khan',\n",
       "  'K Rabada',\n",
       "  'S Lamichhane',\n",
       "  'MP Stoinis',\n",
       "  'DL Chahar',\n",
       "  'SN Thakur',\n",
       "  'MM Sharma',\n",
       "  'DJ Hooda',\n",
       "  'Mohammad Nabi',\n",
       "  'F du Plessis',\n",
       "  'Ishan Kishan',\n",
       "  'RD Chahar',\n",
       "  'B Kumar',\n",
       "  'Sandeep Sharma',\n",
       "  'S Kaul',\n",
       "  'AD Nath',\n",
       "  'TG Southee',\n",
       "  'P Negi',\n",
       "  'M Prasidh Krishna',\n",
       "  'HF Gurney',\n",
       "  'KK Nair',\n",
       "  'SD Lad',\n",
       "  'AS Joseph',\n",
       "  'R Parag',\n",
       "  'MJ Santner',\n",
       "  'JL Denly',\n",
       "  'CR Brathwaite',\n",
       "  'LS Livingstone',\n",
       "  'C Munro',\n",
       "  'RK Bhui',\n",
       "  'Abhishek Sharma',\n",
       "  'KK Ahmed',\n",
       "  'Mujeeb Ur Rahman',\n",
       "  'AJ Turner',\n",
       "  'STR Binny',\n",
       "  'SW Billings',\n",
       "  'E Lewis',\n",
       "  'Harbhajan Singh',\n",
       "  'MA Wood',\n",
       "  'Imran Tahir',\n",
       "  'G Gambhir',\n",
       "  'DT Christian',\n",
       "  'BB McCullum',\n",
       "  'CR Woakes',\n",
       "  'RK Singh',\n",
       "  'R Vinay Kumar',\n",
       "  'DJM Short',\n",
       "  'B Laughlin',\n",
       "  'WP Saha',\n",
       "  'TK Curran',\n",
       "  'GJ Maxwell',\n",
       "  'PJ Sangwan',\n",
       "  'Shakib Al Hasan',\n",
       "  'B Stanlake',\n",
       "  'AJ Finch',\n",
       "  'AJ Tye',\n",
       "  'Washington Sundar',\n",
       "  'A Dananjaya',\n",
       "  'JJ Roy',\n",
       "  'Shivam Mavi',\n",
       "  'MG Johnson',\n",
       "  'M Vijay',\n",
       "  'S Nadeem',\n",
       "  'TA Boult',\n",
       "  'CJ Anderson',\n",
       "  'H Klaasen',\n",
       "  'M Vohra',\n",
       "  'BB Sran',\n",
       "  'LE Plunkett',\n",
       "  'A Mishra',\n",
       "  'Basil Thampi',\n",
       "  'Mustafizur Rahman',\n",
       "  'MK Tiwary',\n",
       "  'AS Rajpoot',\n",
       "  'AD Hales',\n",
       "  'MK Lomror',\n",
       "  'JP Duminy',\n",
       "  'DR Shorey',\n",
       "  'NV Ojha',\n",
       "  'P Chopra',\n",
       "  'JPR Scantlebury-Searles',\n",
       "  'IS Sodhi',\n",
       "  'Anureet Singh',\n",
       "  'SP Goswami',\n",
       "  'Harpreet Brar',\n",
       "  'SE Rutherford',\n",
       "  'Y Prithvi Raj',\n",
       "  'KC Cariappa',\n",
       "  'Gurkeerat Singh',\n",
       "  'P Simran Singh',\n",
       "  'J Suchith',\n",
       "  'MJ Guptill',\n",
       "  'VR Aaron',\n",
       "  'I Sharma',\n",
       "  'SS Tiwary',\n",
       "  'JL Pattinson',\n",
       "  'A Nortje',\n",
       "  'CJ Jordan',\n",
       "  'D Padikkal',\n",
       "  'JR Philippe',\n",
       "  'PK Garg',\n",
       "  'MR Marsh',\n",
       "  'T Natarajan',\n",
       "  'YBK Jaiswal',\n",
       "  'RD Gaikwad',\n",
       "  'EJG Morgan',\n",
       "  'PJ Cummins',\n",
       "  'DW Steyn',\n",
       "  'KL Nagarkoti',\n",
       "  'Abdul Samad',\n",
       "  'JDS Neesham',\n",
       "  'Ravi Bishnoi',\n",
       "  'I Udana',\n",
       "  'CV Varun',\n",
       "  'SS Cottrell',\n",
       "  'Arshdeep Singh',\n",
       "  'Kartik Tyagi',\n",
       "  'N Jagadeesan',\n",
       "  'AT Carey',\n",
       "  'T Banton',\n",
       "  'NM Coulter-Nile',\n",
       "  'LH Ferguson',\n",
       "  'TU Deshpande',\n",
       "  'JO Holder',\n",
       "  'Shahbaz Ahmed',\n",
       "  'P Dubey',\n",
       "  'DR Sams',\n",
       "  'M Jansen',\n",
       "  'RM Patidar',\n",
       "  'KA Jamieson',\n",
       "  'M Shahrukh Khan',\n",
       "  'JA Richardson',\n",
       "  'Lalit Yadav',\n",
       "  'Virat Singh',\n",
       "  'J Yadav',\n",
       "  'MC Henriques',\n",
       "  'FA Allen',\n",
       "  'C Sakariya',\n",
       "  'KV Sharma',\n",
       "  'RP Meredith',\n",
       "  'SL Malinga',\n",
       "  'JP Behrendorff',\n",
       "  'SC Kuggeleijn',\n",
       "  'S Midhun',\n",
       "  'K Khejroliya',\n",
       "  'L Ngidi',\n",
       "  'KM Asif',\n",
       "  'DJ Willey',\n",
       "  'Ankit Sharma',\n",
       "  'CJ Dala',\n",
       "  'O Thomas',\n",
       "  'AS Roy',\n",
       "  'S Sandeep Warrier',\n",
       "  'JR Hazlewood',\n",
       "  'A Zampa',\n",
       "  'CJ Green',\n",
       "  'Monu Kumar',\n",
       "  'AF Milne',\n",
       "  'LI Meriwala',\n",
       "  'Jalaj S Saxena',\n",
       "  'KW Richardson'])"
      ]
     },
     "execution_count": 16,
     "metadata": {},
     "output_type": "execute_result"
    }
   ],
   "source": [
    "##List of all unique players in the dataset\n",
    "ipl_players=cdf.loc[:,['striker','non_striker','bowler']].drop_duplicates().melt()['value'].drop_duplicates().tolist()\n",
    "\n",
    "len(ipl_players),ipl_players"
   ]
  },
  {
   "cell_type": "code",
   "execution_count": 164,
   "id": "c63bb4aa",
   "metadata": {},
   "outputs": [],
   "source": [
    "# pd.DataFrame(ipl_players,columns=['players_2021']).to_excel('./data/players_2021.xlsx',index=False)"
   ]
  },
  {
   "cell_type": "code",
   "execution_count": 17,
   "id": "f9452e86",
   "metadata": {},
   "outputs": [
    {
     "name": "stdout",
     "output_type": "stream",
     "text": [
      "{2018, 2019, '2021', 2021, '2019', '2018', '2020/21'}\n",
      "{'2019', '2020/21', '2018', '2021'}\n"
     ]
    }
   ],
   "source": [
    "### Format seasons\n",
    "print(set(cdf['season']))\n",
    "\n",
    "cdf['season']=cdf['season'].astype('str')\n",
    "print(set(cdf['season']))"
   ]
  },
  {
   "cell_type": "code",
   "execution_count": 18,
   "id": "1e55ab08",
   "metadata": {},
   "outputs": [],
   "source": [
    "##Remove IPL 2020\n",
    "\n",
    "#cdf=cdf.loc[cdf['season']!='2020/21']"
   ]
  },
  {
   "cell_type": "code",
   "execution_count": 19,
   "id": "94c5b4b4",
   "metadata": {},
   "outputs": [],
   "source": [
    "##Remove super overs and repeated super over instance from MI KXIP\n",
    "cdf=cdf.loc[cdf['innings']<=2]"
   ]
  },
  {
   "cell_type": "code",
   "execution_count": 20,
   "id": "57d105c8",
   "metadata": {},
   "outputs": [
    {
     "data": {
      "text/plain": [
       "Dubai International Cricket Stadium                    6338\n",
       "Sheikh Zayed Stadium                                   5294\n",
       "Wankhede Stadium                                       3902\n",
       "Eden Gardens                                           3802\n",
       "Rajiv Gandhi International Stadium                     3609\n",
       "Arun Jaitley Stadium                                   3344\n",
       "Sawai Mansingh Stadium                                 3286\n",
       "M.Chinnaswamy Stadium                                  3246\n",
       "Sharjah Cricket Stadium                                2878\n",
       "MA Chidambaram Stadium, Chepauk, Chennai               2449\n",
       "Punjab Cricket Association IS Bindra Stadium           2429\n",
       "Wankhede Stadium, Mumbai                               2427\n",
       "MA Chidambaram Stadium                                 2130\n",
       "Maharashtra Cricket Association Stadium                1467\n",
       "Holkar Cricket Stadium                                  873\n",
       "Dr. Y.S. Rajasekhara Reddy ACA-VDCA Cricket Stadium     491\n",
       "Narendra Modi Stadium, Ahmedabad                        469\n",
       "Name: venue, dtype: int64"
      ]
     },
     "execution_count": 20,
     "metadata": {},
     "output_type": "execute_result"
    }
   ],
   "source": [
    "##Which venues need tweaking? For purposes of training\n",
    "cdf['venue'].value_counts(ascending=False)"
   ]
  },
  {
   "cell_type": "code",
   "execution_count": 25,
   "id": "3befb916",
   "metadata": {},
   "outputs": [],
   "source": [
    "cdf.loc[cdf['venue']=='MA Chidambaram Stadium, Chepauk, Chennai','venue']='MA Chidambaram Stadium'\n",
    "\n",
    "cdf.loc[cdf['venue']=='Narendra Modi Stadium, Ahmedabad','venue']='Narendra Modi Stadium'\n",
    "cdf.loc[cdf['venue']=='Wankhede Stadium, Mumbai','venue']='Wankhede Stadium'"
   ]
  },
  {
   "cell_type": "markdown",
   "id": "3f2ffa48",
   "metadata": {},
   "source": [
    "#### Change jaipur to Ahmedabad"
   ]
  },
  {
   "cell_type": "code",
   "execution_count": 26,
   "id": "dfd55dad",
   "metadata": {},
   "outputs": [],
   "source": [
    "cdf.loc[cdf['venue']=='Sawai Mansingh Stadium','venue']='Narendra Modi Stadium'"
   ]
  },
  {
   "cell_type": "code",
   "execution_count": 27,
   "id": "27b99a26",
   "metadata": {},
   "outputs": [
    {
     "data": {
      "text/plain": [
       "Dubai International Cricket Stadium                    6338\n",
       "Wankhede Stadium                                       6329\n",
       "Sheikh Zayed Stadium                                   5294\n",
       "MA Chidambaram Stadium                                 4579\n",
       "Eden Gardens                                           3802\n",
       "Narendra Modi Stadium                                  3755\n",
       "Rajiv Gandhi International Stadium                     3609\n",
       "Arun Jaitley Stadium                                   3344\n",
       "M.Chinnaswamy Stadium                                  3246\n",
       "Sharjah Cricket Stadium                                2878\n",
       "Punjab Cricket Association IS Bindra Stadium           2429\n",
       "Maharashtra Cricket Association Stadium                1467\n",
       "Holkar Cricket Stadium                                  873\n",
       "Dr. Y.S. Rajasekhara Reddy ACA-VDCA Cricket Stadium     491\n",
       "Name: venue, dtype: int64"
      ]
     },
     "execution_count": 27,
     "metadata": {},
     "output_type": "execute_result"
    }
   ],
   "source": [
    "cdf['venue'].value_counts(ascending=False)"
   ]
  },
  {
   "cell_type": "code",
   "execution_count": 114,
   "id": "723aaa9d",
   "metadata": {},
   "outputs": [],
   "source": [
    "##Filter venue to Wankhede and MAC\n",
    "\n",
    "#venues=['Wankhede Stadium','MA Chidambaram Stadium']"
   ]
  },
  {
   "cell_type": "code",
   "execution_count": 118,
   "id": "0da26daf",
   "metadata": {},
   "outputs": [],
   "source": [
    "#cdf=cdf.loc[cdf['venue'].isin(venues)]"
   ]
  },
  {
   "cell_type": "code",
   "execution_count": 28,
   "id": "f0e4c321",
   "metadata": {},
   "outputs": [
    {
     "data": {
      "text/plain": [
       "['Royal Challengers Bangalore',\n",
       " 'Chennai Super Kings',\n",
       " 'Sunrisers Hyderabad',\n",
       " 'Kolkata Knight Riders',\n",
       " 'Delhi Capitals',\n",
       " 'Mumbai Indians',\n",
       " 'Kings XI Punjab',\n",
       " 'Rajasthan Royals',\n",
       " 'Delhi Daredevils',\n",
       " 'Punjab Kings']"
      ]
     },
     "execution_count": 28,
     "metadata": {},
     "output_type": "execute_result"
    }
   ],
   "source": [
    "##List of all unique teams in the dataset\n",
    "ipl_teams=cdf.loc[:,['batting_team','bowling_team']].drop_duplicates().melt()['value'].drop_duplicates().tolist()\n",
    "ipl_teams\n",
    "##Change Delhi Daredevils to Delhi Capitals\n",
    "##Change Kings XI Punjab to Punjab Kings"
   ]
  },
  {
   "cell_type": "code",
   "execution_count": 29,
   "id": "c6c5cef6",
   "metadata": {},
   "outputs": [],
   "source": [
    "cdf.loc[cdf['batting_team']=='Delhi Daredevils','batting_team']='Delhi Capitals'\n",
    "cdf.loc[cdf['bowling_team']=='Delhi Daredevils','bowling_team']='Delhi Capitals'\n",
    "cdf.loc[cdf['batting_team']=='Kings XI Punjab','batting_team']='Punjab Kings'\n",
    "cdf.loc[cdf['bowling_team']=='Kings XI Punjab','bowling_team']='Punjab Kings'"
   ]
  },
  {
   "cell_type": "code",
   "execution_count": 30,
   "id": "a8682d75",
   "metadata": {},
   "outputs": [
    {
     "data": {
      "text/plain": [
       "['Royal Challengers Bangalore',\n",
       " 'Chennai Super Kings',\n",
       " 'Sunrisers Hyderabad',\n",
       " 'Kolkata Knight Riders',\n",
       " 'Delhi Capitals',\n",
       " 'Mumbai Indians',\n",
       " 'Punjab Kings',\n",
       " 'Rajasthan Royals']"
      ]
     },
     "execution_count": 30,
     "metadata": {},
     "output_type": "execute_result"
    }
   ],
   "source": [
    "##Changed teams list\n",
    "\n",
    "cdf.loc[:,['batting_team','bowling_team']].drop_duplicates().melt()['value'].drop_duplicates().tolist()"
   ]
  },
  {
   "cell_type": "code",
   "execution_count": 31,
   "id": "8442a4ad",
   "metadata": {},
   "outputs": [],
   "source": [
    "##Extras column has captured type of extras\n",
    "##At test time we will not have ball by ball information, do we need to hold a split of extras in that case??\n",
    "cdf.drop(columns=['wides','noballs','byes','legbyes','penalty'],inplace=True)"
   ]
  },
  {
   "cell_type": "markdown",
   "id": "af0832c5",
   "metadata": {},
   "source": [
    "### Derive new features"
   ]
  },
  {
   "cell_type": "code",
   "execution_count": 32,
   "id": "eda29c69",
   "metadata": {},
   "outputs": [],
   "source": [
    "cdf['total_runs']=cdf['runs_off_bat']+cdf['extras']"
   ]
  },
  {
   "cell_type": "code",
   "execution_count": 33,
   "id": "aa284129",
   "metadata": {},
   "outputs": [],
   "source": [
    "##Get over number\n",
    "cdf['over_number']=cdf['ball'].apply(lambda x:int(math.ceil(x)))"
   ]
  },
  {
   "cell_type": "code",
   "execution_count": 34,
   "id": "68d7526a",
   "metadata": {},
   "outputs": [],
   "source": [
    "def phase_cat(over_number):\n",
    "    '''Determine phase'''\n",
    "    if over_number<=6:\n",
    "        phase=\"PowerPlay\"\n",
    "    if (over_number>6) & (over_number<=15):\n",
    "        phase=\"Middle overs\"\n",
    "    if over_number>15:\n",
    "        phase=\"Death overs\"\n",
    "    return phase"
   ]
  },
  {
   "cell_type": "code",
   "execution_count": 35,
   "id": "3088283f",
   "metadata": {},
   "outputs": [],
   "source": [
    "cdf['phase']=cdf['over_number'].apply(phase_cat)"
   ]
  },
  {
   "cell_type": "code",
   "execution_count": 26,
   "id": "f9fa73db",
   "metadata": {},
   "outputs": [],
   "source": [
    "#cdf.to_csv('./data/cleaned_cricsheet.csv',index=False)"
   ]
  },
  {
   "cell_type": "code",
   "execution_count": 27,
   "id": "d348a7d5",
   "metadata": {},
   "outputs": [],
   "source": [
    "#cdf.to_excel('./data/cleaned_cricsheet.xlsx',index=False)"
   ]
  },
  {
   "cell_type": "markdown",
   "id": "2ccc89c6",
   "metadata": {},
   "source": [
    "### What features can we derive at test time\n",
    "\n",
    "\n",
    "**Assuming that we can add data to lookup in the submission file**\n",
    "\n",
    "#### Toss related factors, cannot be found since each file will be sent manually\n",
    "\n",
    "\n",
    "#### Venue related factors\n",
    "- Venue specific stats, avg PP score in last 'n' games batting 1st (through a lookup table)\n",
    "- Venue specific stats, avg PP score in last 'n' games batting 2nd (through a lookup table)\n",
    "\n",
    "#### Team related factors\n",
    "\n",
    "- When team is batting 1st, what is the avg PP score\n",
    "- When team is batting 2nd, what is the avg PP score\n",
    "\n",
    "\n",
    "#### Batsman related factors\n",
    "\n",
    "- Since the input is a set of all batters in the list, the order will matter. Assuming openers are 1st two, we can measure size of this set to determine number of wickets that have fallen\n",
    "\n",
    "- We will not have split of how many balls each batter faced. Hence we need to be careful not to over use the batsman feature\n",
    "\n",
    "- Lookup batter at venue in 1st innings\n",
    "\n",
    "- Lookup batter at venue in 2nd innings\n",
    "\n",
    "- One proxy could be to determine average batting time of batsman in PP by batting position at venue\n",
    "\n",
    "\n",
    "\n",
    "#### Bowler related factors\n",
    "\n",
    "- Again we dont have info on the split of balls bowled. \n",
    "\n",
    "- Lookup bowler at venue in 1st innings how many overs he has generally bowled * ER\n",
    " \n",
    "- Lookup bowler at venue in 2nd innings how many overs he has generally bowled * ER at venue\n",
    "\n",
    "#### Batsman-Bowler matchups\n",
    "\n",
    "- Infer batting hand of Batsman, bowling type of bowlers\n",
    "\n",
    "#### Handle unknowns\n",
    "\n",
    "- Bowlers like Chetan Sakariya, Avesh Khan are bowling rarely or for the first time. Model must be robust enough to handle \"Unknowns\"\n"
   ]
  },
  {
   "cell_type": "markdown",
   "id": "0ede2d4f",
   "metadata": {},
   "source": [
    "### Begin model training pipeline"
   ]
  },
  {
   "cell_type": "code",
   "execution_count": 54,
   "id": "696c2c82",
   "metadata": {},
   "outputs": [],
   "source": [
    "cdf2=cdf.loc[cdf['phase']=='PowerPlay']"
   ]
  },
  {
   "cell_type": "markdown",
   "id": "81c53f84",
   "metadata": {},
   "source": [
    "#### Venue related stats"
   ]
  },
  {
   "cell_type": "code",
   "execution_count": 88,
   "id": "004c102a",
   "metadata": {},
   "outputs": [
    {
     "name": "stderr",
     "output_type": "stream",
     "text": [
      "<ipython-input-88-e63dc6b94306>:2: FutureWarning: Indexing with multiple keys (implicitly converted to a tuple of keys) will be deprecated, use a list instead.\n",
      "  venue_df=cdf.loc[cdf['phase']=='PowerPlay'].groupby(['venue','start_date','match_id','innings'])['total_runs','wicket_type'].agg({'total_runs':'sum','wicket_type':'count'}).reset_index()\n"
     ]
    }
   ],
   "source": [
    "##Venue related sums\n",
    "venue_df=cdf.loc[cdf['phase']=='PowerPlay'].groupby(['venue','start_date','match_id','innings'])['total_runs','wicket_type'].agg({'total_runs':'sum','wicket_type':'count'}).reset_index()"
   ]
  },
  {
   "cell_type": "code",
   "execution_count": 91,
   "id": "b553da7b",
   "metadata": {},
   "outputs": [],
   "source": [
    "venue_df.index=venue_df['start_date']\n",
    "venue_df.drop(columns=['start_date'],inplace=True)"
   ]
  },
  {
   "cell_type": "code",
   "execution_count": 114,
   "id": "8afe6212",
   "metadata": {},
   "outputs": [],
   "source": [
    "venue_n=2"
   ]
  },
  {
   "cell_type": "code",
   "execution_count": 146,
   "id": "d2ef7a1f",
   "metadata": {},
   "outputs": [
    {
     "name": "stderr",
     "output_type": "stream",
     "text": [
      "<ipython-input-146-3c6b8fb64e3b>:6: FutureWarning: Indexing with multiple keys (implicitly converted to a tuple of keys) will be deprecated, use a list instead.\n",
      "  df2=df.tail(2*venue_n).groupby('innings')['total_runs','wicket_type'].mean().reset_index()\n"
     ]
    }
   ],
   "source": [
    "vdf_lastn=pd.DataFrame()\n",
    "\n",
    "for ven in list(set(venue_df['venue'])):\n",
    "    df=venue_df.loc[venue_df['venue']==ven]\n",
    "    ##Take the last n innings, multiply by 2 to account for both innings\n",
    "    df2=df.tail(2*venue_n).groupby('innings')['total_runs','wicket_type'].mean().reset_index()\n",
    "    df2['venue']=ven\n",
    "    \n",
    "    vdf_lastn=pd.concat([vdf_lastn,df2])"
   ]
  },
  {
   "cell_type": "code",
   "execution_count": 128,
   "id": "f2e03f09",
   "metadata": {},
   "outputs": [],
   "source": [
    "##To round off values\n",
    "#vdf_lastn=np.round(vdf_lastn,0)"
   ]
  },
  {
   "cell_type": "code",
   "execution_count": 147,
   "id": "d17e7875",
   "metadata": {},
   "outputs": [
    {
     "data": {
      "text/html": [
       "<div>\n",
       "<style scoped>\n",
       "    .dataframe tbody tr th:only-of-type {\n",
       "        vertical-align: middle;\n",
       "    }\n",
       "\n",
       "    .dataframe tbody tr th {\n",
       "        vertical-align: top;\n",
       "    }\n",
       "\n",
       "    .dataframe thead th {\n",
       "        text-align: right;\n",
       "    }\n",
       "</style>\n",
       "<table border=\"1\" class=\"dataframe\">\n",
       "  <thead>\n",
       "    <tr style=\"text-align: right;\">\n",
       "      <th></th>\n",
       "      <th>innings</th>\n",
       "      <th>total_runs</th>\n",
       "      <th>wicket_type</th>\n",
       "      <th>venue</th>\n",
       "    </tr>\n",
       "  </thead>\n",
       "  <tbody>\n",
       "    <tr>\n",
       "      <th>0</th>\n",
       "      <td>1</td>\n",
       "      <td>47.5</td>\n",
       "      <td>1.5</td>\n",
       "      <td>Dr. Y.S. Rajasekhara Reddy ACA-VDCA Cricket St...</td>\n",
       "    </tr>\n",
       "    <tr>\n",
       "      <th>1</th>\n",
       "      <td>2</td>\n",
       "      <td>48.5</td>\n",
       "      <td>0.0</td>\n",
       "      <td>Dr. Y.S. Rajasekhara Reddy ACA-VDCA Cricket St...</td>\n",
       "    </tr>\n",
       "    <tr>\n",
       "      <th>0</th>\n",
       "      <td>1</td>\n",
       "      <td>36.0</td>\n",
       "      <td>0.5</td>\n",
       "      <td>MA Chidambaram Stadium</td>\n",
       "    </tr>\n",
       "    <tr>\n",
       "      <th>1</th>\n",
       "      <td>2</td>\n",
       "      <td>50.5</td>\n",
       "      <td>1.0</td>\n",
       "      <td>MA Chidambaram Stadium</td>\n",
       "    </tr>\n",
       "    <tr>\n",
       "      <th>0</th>\n",
       "      <td>1</td>\n",
       "      <td>41.5</td>\n",
       "      <td>1.5</td>\n",
       "      <td>Punjab Cricket Association IS Bindra Stadium</td>\n",
       "    </tr>\n",
       "    <tr>\n",
       "      <th>1</th>\n",
       "      <td>2</td>\n",
       "      <td>65.0</td>\n",
       "      <td>0.5</td>\n",
       "      <td>Punjab Cricket Association IS Bindra Stadium</td>\n",
       "    </tr>\n",
       "    <tr>\n",
       "      <th>0</th>\n",
       "      <td>1</td>\n",
       "      <td>53.0</td>\n",
       "      <td>2.0</td>\n",
       "      <td>Holkar Cricket Stadium</td>\n",
       "    </tr>\n",
       "    <tr>\n",
       "      <th>1</th>\n",
       "      <td>2</td>\n",
       "      <td>62.0</td>\n",
       "      <td>1.0</td>\n",
       "      <td>Holkar Cricket Stadium</td>\n",
       "    </tr>\n",
       "    <tr>\n",
       "      <th>0</th>\n",
       "      <td>1</td>\n",
       "      <td>36.5</td>\n",
       "      <td>1.5</td>\n",
       "      <td>Narendra Modi Stadium</td>\n",
       "    </tr>\n",
       "    <tr>\n",
       "      <th>1</th>\n",
       "      <td>2</td>\n",
       "      <td>42.5</td>\n",
       "      <td>2.5</td>\n",
       "      <td>Narendra Modi Stadium</td>\n",
       "    </tr>\n",
       "    <tr>\n",
       "      <th>0</th>\n",
       "      <td>1</td>\n",
       "      <td>48.5</td>\n",
       "      <td>1.0</td>\n",
       "      <td>Sheikh Zayed Stadium</td>\n",
       "    </tr>\n",
       "    <tr>\n",
       "      <th>1</th>\n",
       "      <td>2</td>\n",
       "      <td>48.5</td>\n",
       "      <td>2.5</td>\n",
       "      <td>Sheikh Zayed Stadium</td>\n",
       "    </tr>\n",
       "    <tr>\n",
       "      <th>0</th>\n",
       "      <td>1</td>\n",
       "      <td>57.0</td>\n",
       "      <td>4.0</td>\n",
       "      <td>M.Chinnaswamy Stadium</td>\n",
       "    </tr>\n",
       "    <tr>\n",
       "      <th>1</th>\n",
       "      <td>2</td>\n",
       "      <td>45.0</td>\n",
       "      <td>2.0</td>\n",
       "      <td>M.Chinnaswamy Stadium</td>\n",
       "    </tr>\n",
       "    <tr>\n",
       "      <th>0</th>\n",
       "      <td>1</td>\n",
       "      <td>29.0</td>\n",
       "      <td>2.0</td>\n",
       "      <td>Maharashtra Cricket Association Stadium</td>\n",
       "    </tr>\n",
       "    <tr>\n",
       "      <th>1</th>\n",
       "      <td>2</td>\n",
       "      <td>43.0</td>\n",
       "      <td>1.5</td>\n",
       "      <td>Maharashtra Cricket Association Stadium</td>\n",
       "    </tr>\n",
       "    <tr>\n",
       "      <th>0</th>\n",
       "      <td>1</td>\n",
       "      <td>38.0</td>\n",
       "      <td>0.5</td>\n",
       "      <td>Wankhede Stadium</td>\n",
       "    </tr>\n",
       "    <tr>\n",
       "      <th>1</th>\n",
       "      <td>2</td>\n",
       "      <td>57.5</td>\n",
       "      <td>2.0</td>\n",
       "      <td>Wankhede Stadium</td>\n",
       "    </tr>\n",
       "    <tr>\n",
       "      <th>0</th>\n",
       "      <td>1</td>\n",
       "      <td>39.0</td>\n",
       "      <td>2.0</td>\n",
       "      <td>Sharjah Cricket Stadium</td>\n",
       "    </tr>\n",
       "    <tr>\n",
       "      <th>1</th>\n",
       "      <td>2</td>\n",
       "      <td>57.0</td>\n",
       "      <td>0.5</td>\n",
       "      <td>Sharjah Cricket Stadium</td>\n",
       "    </tr>\n",
       "    <tr>\n",
       "      <th>0</th>\n",
       "      <td>1</td>\n",
       "      <td>41.0</td>\n",
       "      <td>1.0</td>\n",
       "      <td>Eden Gardens</td>\n",
       "    </tr>\n",
       "    <tr>\n",
       "      <th>1</th>\n",
       "      <td>2</td>\n",
       "      <td>48.0</td>\n",
       "      <td>1.5</td>\n",
       "      <td>Eden Gardens</td>\n",
       "    </tr>\n",
       "    <tr>\n",
       "      <th>0</th>\n",
       "      <td>1</td>\n",
       "      <td>61.0</td>\n",
       "      <td>1.0</td>\n",
       "      <td>Rajiv Gandhi International Stadium</td>\n",
       "    </tr>\n",
       "    <tr>\n",
       "      <th>1</th>\n",
       "      <td>2</td>\n",
       "      <td>48.5</td>\n",
       "      <td>1.0</td>\n",
       "      <td>Rajiv Gandhi International Stadium</td>\n",
       "    </tr>\n",
       "    <tr>\n",
       "      <th>0</th>\n",
       "      <td>1</td>\n",
       "      <td>44.5</td>\n",
       "      <td>2.5</td>\n",
       "      <td>Arun Jaitley Stadium</td>\n",
       "    </tr>\n",
       "    <tr>\n",
       "      <th>1</th>\n",
       "      <td>2</td>\n",
       "      <td>55.0</td>\n",
       "      <td>1.5</td>\n",
       "      <td>Arun Jaitley Stadium</td>\n",
       "    </tr>\n",
       "    <tr>\n",
       "      <th>0</th>\n",
       "      <td>1</td>\n",
       "      <td>52.0</td>\n",
       "      <td>2.0</td>\n",
       "      <td>Dubai International Cricket Stadium</td>\n",
       "    </tr>\n",
       "    <tr>\n",
       "      <th>1</th>\n",
       "      <td>2</td>\n",
       "      <td>46.5</td>\n",
       "      <td>2.5</td>\n",
       "      <td>Dubai International Cricket Stadium</td>\n",
       "    </tr>\n",
       "  </tbody>\n",
       "</table>\n",
       "</div>"
      ],
      "text/plain": [
       "   innings  total_runs  wicket_type  \\\n",
       "0        1        47.5          1.5   \n",
       "1        2        48.5          0.0   \n",
       "0        1        36.0          0.5   \n",
       "1        2        50.5          1.0   \n",
       "0        1        41.5          1.5   \n",
       "1        2        65.0          0.5   \n",
       "0        1        53.0          2.0   \n",
       "1        2        62.0          1.0   \n",
       "0        1        36.5          1.5   \n",
       "1        2        42.5          2.5   \n",
       "0        1        48.5          1.0   \n",
       "1        2        48.5          2.5   \n",
       "0        1        57.0          4.0   \n",
       "1        2        45.0          2.0   \n",
       "0        1        29.0          2.0   \n",
       "1        2        43.0          1.5   \n",
       "0        1        38.0          0.5   \n",
       "1        2        57.5          2.0   \n",
       "0        1        39.0          2.0   \n",
       "1        2        57.0          0.5   \n",
       "0        1        41.0          1.0   \n",
       "1        2        48.0          1.5   \n",
       "0        1        61.0          1.0   \n",
       "1        2        48.5          1.0   \n",
       "0        1        44.5          2.5   \n",
       "1        2        55.0          1.5   \n",
       "0        1        52.0          2.0   \n",
       "1        2        46.5          2.5   \n",
       "\n",
       "                                               venue  \n",
       "0  Dr. Y.S. Rajasekhara Reddy ACA-VDCA Cricket St...  \n",
       "1  Dr. Y.S. Rajasekhara Reddy ACA-VDCA Cricket St...  \n",
       "0                             MA Chidambaram Stadium  \n",
       "1                             MA Chidambaram Stadium  \n",
       "0       Punjab Cricket Association IS Bindra Stadium  \n",
       "1       Punjab Cricket Association IS Bindra Stadium  \n",
       "0                             Holkar Cricket Stadium  \n",
       "1                             Holkar Cricket Stadium  \n",
       "0                              Narendra Modi Stadium  \n",
       "1                              Narendra Modi Stadium  \n",
       "0                               Sheikh Zayed Stadium  \n",
       "1                               Sheikh Zayed Stadium  \n",
       "0                              M.Chinnaswamy Stadium  \n",
       "1                              M.Chinnaswamy Stadium  \n",
       "0            Maharashtra Cricket Association Stadium  \n",
       "1            Maharashtra Cricket Association Stadium  \n",
       "0                                   Wankhede Stadium  \n",
       "1                                   Wankhede Stadium  \n",
       "0                            Sharjah Cricket Stadium  \n",
       "1                            Sharjah Cricket Stadium  \n",
       "0                                       Eden Gardens  \n",
       "1                                       Eden Gardens  \n",
       "0                 Rajiv Gandhi International Stadium  \n",
       "1                 Rajiv Gandhi International Stadium  \n",
       "0                               Arun Jaitley Stadium  \n",
       "1                               Arun Jaitley Stadium  \n",
       "0                Dubai International Cricket Stadium  \n",
       "1                Dubai International Cricket Stadium  "
      ]
     },
     "execution_count": 147,
     "metadata": {},
     "output_type": "execute_result"
    }
   ],
   "source": [
    "vdf_lastn"
   ]
  },
  {
   "cell_type": "code",
   "execution_count": 119,
   "id": "c2d841f6",
   "metadata": {},
   "outputs": [],
   "source": [
    "# vdf=venue_df.groupby(['venue','start_date','match_id','innings']).last(venue_n).reset_index().drop(columns=['match_id'])\n",
    "\n",
    "# vdf.head()"
   ]
  },
  {
   "cell_type": "code",
   "execution_count": 118,
   "id": "bc7473cc",
   "metadata": {},
   "outputs": [],
   "source": [
    "# list(set(vdf['venue']))"
   ]
  },
  {
   "cell_type": "code",
   "execution_count": 79,
   "id": "ef7ec6a3",
   "metadata": {},
   "outputs": [],
   "source": [
    "# delhi_df=venue_df.loc[venue_df['venue']=='Arun Jaitley Stadium']"
   ]
  },
  {
   "cell_type": "code",
   "execution_count": 120,
   "id": "fe40b749",
   "metadata": {},
   "outputs": [],
   "source": [
    "# set(vdf['venue'])"
   ]
  },
  {
   "cell_type": "code",
   "execution_count": 121,
   "id": "4b33c64d",
   "metadata": {},
   "outputs": [],
   "source": [
    "# vdf_lastn=vdf.groupby(['venue','innings'])['total_runs','wicket_type'].mean().reset_index()\n",
    "\n",
    "# #vdf_lastn=np.round(vdf_lastn,0)\n",
    "# vdf_lastn.head()"
   ]
  },
  {
   "cell_type": "markdown",
   "id": "c729d24c",
   "metadata": {},
   "source": [
    "#### Team last few scores"
   ]
  },
  {
   "cell_type": "code",
   "execution_count": 168,
   "id": "1063d781",
   "metadata": {},
   "outputs": [
    {
     "name": "stderr",
     "output_type": "stream",
     "text": [
      "<ipython-input-168-ed7d4fbc9ca5>:4: FutureWarning: Indexing with multiple keys (implicitly converted to a tuple of keys) will be deprecated, use a list instead.\n",
      "  team_df=cdf.loc[cdf['phase']=='PowerPlay'].groupby(['batting_team','start_date','match_id','innings'])['total_runs','wicket_type'].agg({'total_runs':'sum','wicket_type':'count'}).reset_index()\n"
     ]
    }
   ],
   "source": [
    "##Team related dimensions\n",
    "\n",
    "team_n=4\n",
    "team_df=cdf.loc[cdf['phase']=='PowerPlay'].groupby(['batting_team','start_date','match_id','innings'])['total_runs','wicket_type'].agg({'total_runs':'sum','wicket_type':'count'}).reset_index()\n",
    "\n",
    "team_df.index=team_df['start_date']\n",
    "team_df.drop(columns=['start_date'],inplace=True)\n",
    "# tdf=team_df.groupby(['batting_team','start_date','match_id','innings']).last(team_n).reset_index().drop(columns=['start_date','match_id'])\n",
    "\n",
    "# tdf.head()"
   ]
  },
  {
   "cell_type": "code",
   "execution_count": 169,
   "id": "d8d974d2",
   "metadata": {},
   "outputs": [
    {
     "name": "stderr",
     "output_type": "stream",
     "text": [
      "<ipython-input-169-e148e00a3d54>:8: FutureWarning: Indexing with multiple keys (implicitly converted to a tuple of keys) will be deprecated, use a list instead.\n",
      "  df2=df2.groupby('innings')['total_runs','wicket_type'].mean().reset_index()\n",
      "<ipython-input-169-e148e00a3d54>:8: FutureWarning: Indexing with multiple keys (implicitly converted to a tuple of keys) will be deprecated, use a list instead.\n",
      "  df2=df2.groupby('innings')['total_runs','wicket_type'].mean().reset_index()\n",
      "<ipython-input-169-e148e00a3d54>:8: FutureWarning: Indexing with multiple keys (implicitly converted to a tuple of keys) will be deprecated, use a list instead.\n",
      "  df2=df2.groupby('innings')['total_runs','wicket_type'].mean().reset_index()\n",
      "<ipython-input-169-e148e00a3d54>:8: FutureWarning: Indexing with multiple keys (implicitly converted to a tuple of keys) will be deprecated, use a list instead.\n",
      "  df2=df2.groupby('innings')['total_runs','wicket_type'].mean().reset_index()\n",
      "<ipython-input-169-e148e00a3d54>:8: FutureWarning: Indexing with multiple keys (implicitly converted to a tuple of keys) will be deprecated, use a list instead.\n",
      "  df2=df2.groupby('innings')['total_runs','wicket_type'].mean().reset_index()\n",
      "<ipython-input-169-e148e00a3d54>:8: FutureWarning: Indexing with multiple keys (implicitly converted to a tuple of keys) will be deprecated, use a list instead.\n",
      "  df2=df2.groupby('innings')['total_runs','wicket_type'].mean().reset_index()\n",
      "<ipython-input-169-e148e00a3d54>:8: FutureWarning: Indexing with multiple keys (implicitly converted to a tuple of keys) will be deprecated, use a list instead.\n",
      "  df2=df2.groupby('innings')['total_runs','wicket_type'].mean().reset_index()\n",
      "<ipython-input-169-e148e00a3d54>:8: FutureWarning: Indexing with multiple keys (implicitly converted to a tuple of keys) will be deprecated, use a list instead.\n",
      "  df2=df2.groupby('innings')['total_runs','wicket_type'].mean().reset_index()\n"
     ]
    }
   ],
   "source": [
    "tdf_lastn=pd.DataFrame()\n",
    "\n",
    "for team in list(set(team_df['batting_team'])):\n",
    "    df=team_df.loc[team_df['batting_team']==team]\n",
    "    ##Take the last n innings, multiply by 2 to account for both innings\n",
    "    \n",
    "    df2=pd.concat([df.loc[df['innings']==1].tail(team_n),df.loc[df['innings']==2].tail(team_n)])\n",
    "    df2=df2.groupby('innings')['total_runs','wicket_type'].mean().reset_index()\n",
    "    #df2=df.tail(2*team_n).groupby('innings')['total_runs','wicket_type'].mean().reset_index()\n",
    "    df2['batting_team']=team\n",
    "    \n",
    "    tdf_lastn=pd.concat([tdf_lastn,df2])"
   ]
  },
  {
   "cell_type": "code",
   "execution_count": 170,
   "id": "49b77572",
   "metadata": {},
   "outputs": [
    {
     "data": {
      "text/html": [
       "<div>\n",
       "<style scoped>\n",
       "    .dataframe tbody tr th:only-of-type {\n",
       "        vertical-align: middle;\n",
       "    }\n",
       "\n",
       "    .dataframe tbody tr th {\n",
       "        vertical-align: top;\n",
       "    }\n",
       "\n",
       "    .dataframe thead th {\n",
       "        text-align: right;\n",
       "    }\n",
       "</style>\n",
       "<table border=\"1\" class=\"dataframe\">\n",
       "  <thead>\n",
       "    <tr style=\"text-align: right;\">\n",
       "      <th></th>\n",
       "      <th>innings</th>\n",
       "      <th>total_runs</th>\n",
       "      <th>wicket_type</th>\n",
       "      <th>batting_team</th>\n",
       "    </tr>\n",
       "  </thead>\n",
       "  <tbody>\n",
       "    <tr>\n",
       "      <th>0</th>\n",
       "      <td>1</td>\n",
       "      <td>50.75</td>\n",
       "      <td>0.50</td>\n",
       "      <td>Sunrisers Hyderabad</td>\n",
       "    </tr>\n",
       "    <tr>\n",
       "      <th>1</th>\n",
       "      <td>2</td>\n",
       "      <td>53.25</td>\n",
       "      <td>0.75</td>\n",
       "      <td>Sunrisers Hyderabad</td>\n",
       "    </tr>\n",
       "    <tr>\n",
       "      <th>0</th>\n",
       "      <td>1</td>\n",
       "      <td>42.25</td>\n",
       "      <td>2.00</td>\n",
       "      <td>Rajasthan Royals</td>\n",
       "    </tr>\n",
       "    <tr>\n",
       "      <th>1</th>\n",
       "      <td>2</td>\n",
       "      <td>45.00</td>\n",
       "      <td>2.25</td>\n",
       "      <td>Rajasthan Royals</td>\n",
       "    </tr>\n",
       "    <tr>\n",
       "      <th>0</th>\n",
       "      <td>1</td>\n",
       "      <td>48.25</td>\n",
       "      <td>1.50</td>\n",
       "      <td>Delhi Capitals</td>\n",
       "    </tr>\n",
       "    <tr>\n",
       "      <th>1</th>\n",
       "      <td>2</td>\n",
       "      <td>52.25</td>\n",
       "      <td>1.00</td>\n",
       "      <td>Delhi Capitals</td>\n",
       "    </tr>\n",
       "    <tr>\n",
       "      <th>0</th>\n",
       "      <td>1</td>\n",
       "      <td>40.00</td>\n",
       "      <td>1.75</td>\n",
       "      <td>Royal Challengers Bangalore</td>\n",
       "    </tr>\n",
       "    <tr>\n",
       "      <th>1</th>\n",
       "      <td>2</td>\n",
       "      <td>53.50</td>\n",
       "      <td>1.00</td>\n",
       "      <td>Royal Challengers Bangalore</td>\n",
       "    </tr>\n",
       "    <tr>\n",
       "      <th>0</th>\n",
       "      <td>1</td>\n",
       "      <td>38.50</td>\n",
       "      <td>1.50</td>\n",
       "      <td>Punjab Kings</td>\n",
       "    </tr>\n",
       "    <tr>\n",
       "      <th>1</th>\n",
       "      <td>2</td>\n",
       "      <td>47.25</td>\n",
       "      <td>1.00</td>\n",
       "      <td>Punjab Kings</td>\n",
       "    </tr>\n",
       "    <tr>\n",
       "      <th>0</th>\n",
       "      <td>1</td>\n",
       "      <td>42.75</td>\n",
       "      <td>0.75</td>\n",
       "      <td>Mumbai Indians</td>\n",
       "    </tr>\n",
       "    <tr>\n",
       "      <th>1</th>\n",
       "      <td>2</td>\n",
       "      <td>49.00</td>\n",
       "      <td>0.50</td>\n",
       "      <td>Mumbai Indians</td>\n",
       "    </tr>\n",
       "    <tr>\n",
       "      <th>0</th>\n",
       "      <td>1</td>\n",
       "      <td>46.00</td>\n",
       "      <td>1.00</td>\n",
       "      <td>Chennai Super Kings</td>\n",
       "    </tr>\n",
       "    <tr>\n",
       "      <th>1</th>\n",
       "      <td>2</td>\n",
       "      <td>45.25</td>\n",
       "      <td>0.50</td>\n",
       "      <td>Chennai Super Kings</td>\n",
       "    </tr>\n",
       "    <tr>\n",
       "      <th>0</th>\n",
       "      <td>1</td>\n",
       "      <td>44.50</td>\n",
       "      <td>0.50</td>\n",
       "      <td>Kolkata Knight Riders</td>\n",
       "    </tr>\n",
       "    <tr>\n",
       "      <th>1</th>\n",
       "      <td>2</td>\n",
       "      <td>47.25</td>\n",
       "      <td>2.50</td>\n",
       "      <td>Kolkata Knight Riders</td>\n",
       "    </tr>\n",
       "  </tbody>\n",
       "</table>\n",
       "</div>"
      ],
      "text/plain": [
       "   innings  total_runs  wicket_type                 batting_team\n",
       "0        1       50.75         0.50          Sunrisers Hyderabad\n",
       "1        2       53.25         0.75          Sunrisers Hyderabad\n",
       "0        1       42.25         2.00             Rajasthan Royals\n",
       "1        2       45.00         2.25             Rajasthan Royals\n",
       "0        1       48.25         1.50               Delhi Capitals\n",
       "1        2       52.25         1.00               Delhi Capitals\n",
       "0        1       40.00         1.75  Royal Challengers Bangalore\n",
       "1        2       53.50         1.00  Royal Challengers Bangalore\n",
       "0        1       38.50         1.50                 Punjab Kings\n",
       "1        2       47.25         1.00                 Punjab Kings\n",
       "0        1       42.75         0.75               Mumbai Indians\n",
       "1        2       49.00         0.50               Mumbai Indians\n",
       "0        1       46.00         1.00          Chennai Super Kings\n",
       "1        2       45.25         0.50          Chennai Super Kings\n",
       "0        1       44.50         0.50        Kolkata Knight Riders\n",
       "1        2       47.25         2.50        Kolkata Knight Riders"
      ]
     },
     "execution_count": 170,
     "metadata": {},
     "output_type": "execute_result"
    }
   ],
   "source": [
    "tdf_lastn"
   ]
  },
  {
   "cell_type": "code",
   "execution_count": 171,
   "id": "957b212f",
   "metadata": {},
   "outputs": [],
   "source": [
    "# tdf_lastn=tdf.groupby(['batting_team','innings'])['total_runs','wicket_type'].mean().reset_index()\n",
    "\n",
    "# #tdf_lastn=np.round(tdf_lastn,0)\n",
    "\n",
    "# tdf_lastn.head()"
   ]
  },
  {
   "cell_type": "code",
   "execution_count": 272,
   "id": "3be2a78f",
   "metadata": {},
   "outputs": [],
   "source": [
    "model_df=cdf.loc[cdf['phase']=='PowerPlay'].groupby(['match_id','innings','venue','batting_team'])['total_runs'].sum().reset_index()"
   ]
  },
  {
   "cell_type": "code",
   "execution_count": 273,
   "id": "84107780",
   "metadata": {},
   "outputs": [
    {
     "data": {
      "text/html": [
       "<div>\n",
       "<style scoped>\n",
       "    .dataframe tbody tr th:only-of-type {\n",
       "        vertical-align: middle;\n",
       "    }\n",
       "\n",
       "    .dataframe tbody tr th {\n",
       "        vertical-align: top;\n",
       "    }\n",
       "\n",
       "    .dataframe thead th {\n",
       "        text-align: right;\n",
       "    }\n",
       "</style>\n",
       "<table border=\"1\" class=\"dataframe\">\n",
       "  <thead>\n",
       "    <tr style=\"text-align: right;\">\n",
       "      <th></th>\n",
       "      <th>match_id</th>\n",
       "      <th>innings</th>\n",
       "      <th>venue</th>\n",
       "      <th>batting_team</th>\n",
       "      <th>total_runs</th>\n",
       "    </tr>\n",
       "  </thead>\n",
       "  <tbody>\n",
       "    <tr>\n",
       "      <th>0</th>\n",
       "      <td>1136561</td>\n",
       "      <td>1</td>\n",
       "      <td>Wankhede Stadium</td>\n",
       "      <td>Mumbai Indians</td>\n",
       "      <td>39</td>\n",
       "    </tr>\n",
       "    <tr>\n",
       "      <th>1</th>\n",
       "      <td>1136561</td>\n",
       "      <td>2</td>\n",
       "      <td>Wankhede Stadium</td>\n",
       "      <td>Chennai Super Kings</td>\n",
       "      <td>42</td>\n",
       "    </tr>\n",
       "    <tr>\n",
       "      <th>2</th>\n",
       "      <td>1136562</td>\n",
       "      <td>1</td>\n",
       "      <td>Punjab Cricket Association IS Bindra Stadium</td>\n",
       "      <td>Delhi Capitals</td>\n",
       "      <td>45</td>\n",
       "    </tr>\n",
       "    <tr>\n",
       "      <th>3</th>\n",
       "      <td>1136562</td>\n",
       "      <td>2</td>\n",
       "      <td>Punjab Cricket Association IS Bindra Stadium</td>\n",
       "      <td>Punjab Kings</td>\n",
       "      <td>73</td>\n",
       "    </tr>\n",
       "    <tr>\n",
       "      <th>4</th>\n",
       "      <td>1136563</td>\n",
       "      <td>1</td>\n",
       "      <td>Eden Gardens</td>\n",
       "      <td>Royal Challengers Bangalore</td>\n",
       "      <td>52</td>\n",
       "    </tr>\n",
       "  </tbody>\n",
       "</table>\n",
       "</div>"
      ],
      "text/plain": [
       "   match_id  innings                                         venue  \\\n",
       "0   1136561        1                              Wankhede Stadium   \n",
       "1   1136561        2                              Wankhede Stadium   \n",
       "2   1136562        1  Punjab Cricket Association IS Bindra Stadium   \n",
       "3   1136562        2  Punjab Cricket Association IS Bindra Stadium   \n",
       "4   1136563        1                                  Eden Gardens   \n",
       "\n",
       "                  batting_team  total_runs  \n",
       "0               Mumbai Indians          39  \n",
       "1          Chennai Super Kings          42  \n",
       "2               Delhi Capitals          45  \n",
       "3                 Punjab Kings          73  \n",
       "4  Royal Challengers Bangalore          52  "
      ]
     },
     "execution_count": 273,
     "metadata": {},
     "output_type": "execute_result"
    }
   ],
   "source": [
    "model_df.head()"
   ]
  },
  {
   "cell_type": "code",
   "execution_count": 274,
   "id": "4452a825",
   "metadata": {},
   "outputs": [
    {
     "data": {
      "text/html": [
       "<div>\n",
       "<style scoped>\n",
       "    .dataframe tbody tr th:only-of-type {\n",
       "        vertical-align: middle;\n",
       "    }\n",
       "\n",
       "    .dataframe tbody tr th {\n",
       "        vertical-align: top;\n",
       "    }\n",
       "\n",
       "    .dataframe thead th {\n",
       "        text-align: right;\n",
       "    }\n",
       "</style>\n",
       "<table border=\"1\" class=\"dataframe\">\n",
       "  <thead>\n",
       "    <tr style=\"text-align: right;\">\n",
       "      <th></th>\n",
       "      <th>match_id</th>\n",
       "      <th>innings</th>\n",
       "      <th>venue</th>\n",
       "      <th>batting_team</th>\n",
       "      <th>total_runs</th>\n",
       "      <th>total_runs_venueavg</th>\n",
       "      <th>wicket_type</th>\n",
       "    </tr>\n",
       "  </thead>\n",
       "  <tbody>\n",
       "    <tr>\n",
       "      <th>399</th>\n",
       "      <td>1216521</td>\n",
       "      <td>2</td>\n",
       "      <td>Sharjah Cricket Stadium</td>\n",
       "      <td>Mumbai Indians</td>\n",
       "      <td>52</td>\n",
       "      <td>57.0</td>\n",
       "      <td>0.5</td>\n",
       "    </tr>\n",
       "    <tr>\n",
       "      <th>400</th>\n",
       "      <td>1216527</td>\n",
       "      <td>2</td>\n",
       "      <td>Sharjah Cricket Stadium</td>\n",
       "      <td>Rajasthan Royals</td>\n",
       "      <td>69</td>\n",
       "      <td>57.0</td>\n",
       "      <td>0.5</td>\n",
       "    </tr>\n",
       "    <tr>\n",
       "      <th>401</th>\n",
       "      <td>1216531</td>\n",
       "      <td>2</td>\n",
       "      <td>Sharjah Cricket Stadium</td>\n",
       "      <td>Punjab Kings</td>\n",
       "      <td>56</td>\n",
       "      <td>57.0</td>\n",
       "      <td>0.5</td>\n",
       "    </tr>\n",
       "    <tr>\n",
       "      <th>402</th>\n",
       "      <td>1216538</td>\n",
       "      <td>2</td>\n",
       "      <td>Sharjah Cricket Stadium</td>\n",
       "      <td>Sunrisers Hyderabad</td>\n",
       "      <td>56</td>\n",
       "      <td>57.0</td>\n",
       "      <td>0.5</td>\n",
       "    </tr>\n",
       "    <tr>\n",
       "      <th>403</th>\n",
       "      <td>1216540</td>\n",
       "      <td>2</td>\n",
       "      <td>Sharjah Cricket Stadium</td>\n",
       "      <td>Kolkata Knight Riders</td>\n",
       "      <td>43</td>\n",
       "      <td>57.0</td>\n",
       "      <td>0.5</td>\n",
       "    </tr>\n",
       "  </tbody>\n",
       "</table>\n",
       "</div>"
      ],
      "text/plain": [
       "     match_id  innings                    venue           batting_team  \\\n",
       "399   1216521        2  Sharjah Cricket Stadium         Mumbai Indians   \n",
       "400   1216527        2  Sharjah Cricket Stadium       Rajasthan Royals   \n",
       "401   1216531        2  Sharjah Cricket Stadium           Punjab Kings   \n",
       "402   1216538        2  Sharjah Cricket Stadium    Sunrisers Hyderabad   \n",
       "403   1216540        2  Sharjah Cricket Stadium  Kolkata Knight Riders   \n",
       "\n",
       "     total_runs  total_runs_venueavg  wicket_type  \n",
       "399          52                 57.0          0.5  \n",
       "400          69                 57.0          0.5  \n",
       "401          56                 57.0          0.5  \n",
       "402          56                 57.0          0.5  \n",
       "403          43                 57.0          0.5  "
      ]
     },
     "execution_count": 274,
     "metadata": {},
     "output_type": "execute_result"
    }
   ],
   "source": [
    "model_df=model_df.merge(vdf_lastn,on=['venue','innings'],suffixes=('','_venueavg'))\n",
    "\n",
    "model_df.tail()"
   ]
  },
  {
   "cell_type": "code",
   "execution_count": 275,
   "id": "c0f6fb7e",
   "metadata": {},
   "outputs": [
    {
     "data": {
      "text/html": [
       "<div>\n",
       "<style scoped>\n",
       "    .dataframe tbody tr th:only-of-type {\n",
       "        vertical-align: middle;\n",
       "    }\n",
       "\n",
       "    .dataframe tbody tr th {\n",
       "        vertical-align: top;\n",
       "    }\n",
       "\n",
       "    .dataframe thead th {\n",
       "        text-align: right;\n",
       "    }\n",
       "</style>\n",
       "<table border=\"1\" class=\"dataframe\">\n",
       "  <thead>\n",
       "    <tr style=\"text-align: right;\">\n",
       "      <th></th>\n",
       "      <th>match_id</th>\n",
       "      <th>innings</th>\n",
       "      <th>venue</th>\n",
       "      <th>batting_team</th>\n",
       "      <th>total_runs</th>\n",
       "      <th>total_runs_venueavg</th>\n",
       "      <th>wicket_type</th>\n",
       "      <th>total_runs_teamavg</th>\n",
       "      <th>wicket_type_teamavg</th>\n",
       "    </tr>\n",
       "  </thead>\n",
       "  <tbody>\n",
       "    <tr>\n",
       "      <th>399</th>\n",
       "      <td>1216528</td>\n",
       "      <td>2</td>\n",
       "      <td>Dubai International Cricket Stadium</td>\n",
       "      <td>Sunrisers Hyderabad</td>\n",
       "      <td>40</td>\n",
       "      <td>46.5</td>\n",
       "      <td>2.5</td>\n",
       "      <td>53.25</td>\n",
       "      <td>0.75</td>\n",
       "    </tr>\n",
       "    <tr>\n",
       "      <th>400</th>\n",
       "      <td>1216534</td>\n",
       "      <td>2</td>\n",
       "      <td>Dubai International Cricket Stadium</td>\n",
       "      <td>Sunrisers Hyderabad</td>\n",
       "      <td>48</td>\n",
       "      <td>46.5</td>\n",
       "      <td>2.5</td>\n",
       "      <td>53.25</td>\n",
       "      <td>0.75</td>\n",
       "    </tr>\n",
       "    <tr>\n",
       "      <th>401</th>\n",
       "      <td>1216495</td>\n",
       "      <td>2</td>\n",
       "      <td>Sharjah Cricket Stadium</td>\n",
       "      <td>Sunrisers Hyderabad</td>\n",
       "      <td>56</td>\n",
       "      <td>57.0</td>\n",
       "      <td>0.5</td>\n",
       "      <td>53.25</td>\n",
       "      <td>0.75</td>\n",
       "    </tr>\n",
       "    <tr>\n",
       "      <th>402</th>\n",
       "      <td>1216502</td>\n",
       "      <td>2</td>\n",
       "      <td>Sharjah Cricket Stadium</td>\n",
       "      <td>Sunrisers Hyderabad</td>\n",
       "      <td>58</td>\n",
       "      <td>57.0</td>\n",
       "      <td>0.5</td>\n",
       "      <td>53.25</td>\n",
       "      <td>0.75</td>\n",
       "    </tr>\n",
       "    <tr>\n",
       "      <th>403</th>\n",
       "      <td>1216538</td>\n",
       "      <td>2</td>\n",
       "      <td>Sharjah Cricket Stadium</td>\n",
       "      <td>Sunrisers Hyderabad</td>\n",
       "      <td>56</td>\n",
       "      <td>57.0</td>\n",
       "      <td>0.5</td>\n",
       "      <td>53.25</td>\n",
       "      <td>0.75</td>\n",
       "    </tr>\n",
       "  </tbody>\n",
       "</table>\n",
       "</div>"
      ],
      "text/plain": [
       "     match_id  innings                                venue  \\\n",
       "399   1216528        2  Dubai International Cricket Stadium   \n",
       "400   1216534        2  Dubai International Cricket Stadium   \n",
       "401   1216495        2              Sharjah Cricket Stadium   \n",
       "402   1216502        2              Sharjah Cricket Stadium   \n",
       "403   1216538        2              Sharjah Cricket Stadium   \n",
       "\n",
       "            batting_team  total_runs  total_runs_venueavg  wicket_type  \\\n",
       "399  Sunrisers Hyderabad          40                 46.5          2.5   \n",
       "400  Sunrisers Hyderabad          48                 46.5          2.5   \n",
       "401  Sunrisers Hyderabad          56                 57.0          0.5   \n",
       "402  Sunrisers Hyderabad          58                 57.0          0.5   \n",
       "403  Sunrisers Hyderabad          56                 57.0          0.5   \n",
       "\n",
       "     total_runs_teamavg  wicket_type_teamavg  \n",
       "399               53.25                 0.75  \n",
       "400               53.25                 0.75  \n",
       "401               53.25                 0.75  \n",
       "402               53.25                 0.75  \n",
       "403               53.25                 0.75  "
      ]
     },
     "execution_count": 275,
     "metadata": {},
     "output_type": "execute_result"
    }
   ],
   "source": [
    "model_df=model_df.merge(tdf_lastn,on=['batting_team','innings'],suffixes=('','_teamavg'))\n",
    "\n",
    "model_df.tail()"
   ]
  },
  {
   "cell_type": "code",
   "execution_count": 276,
   "id": "865e99a4",
   "metadata": {},
   "outputs": [],
   "source": [
    "##Make innings and Ordinal feature\n",
    "model_df['innings']=model_df['innings'].astype('str')"
   ]
  },
  {
   "cell_type": "markdown",
   "id": "c2253bfb",
   "metadata": {},
   "source": [
    "### Filter venues?"
   ]
  },
  {
   "cell_type": "code",
   "execution_count": 277,
   "id": "2fb50256",
   "metadata": {},
   "outputs": [],
   "source": [
    "venue_list=['Wankhede Stadium','MA Chidambaram Stadium','Arun Jaitley Stadium','Narendra Modi Stadium']"
   ]
  },
  {
   "cell_type": "code",
   "execution_count": 278,
   "id": "ee88052d",
   "metadata": {},
   "outputs": [],
   "source": [
    "#model_df=model_df.loc[model_df['venue'].isin(venue_list)]"
   ]
  },
  {
   "cell_type": "code",
   "execution_count": 279,
   "id": "df4331a0",
   "metadata": {},
   "outputs": [],
   "source": [
    "# inn_encoder=LabelEncoder()\n",
    "venue_encoder=LabelEncoder()\n",
    "team_encoder=LabelEncoder()"
   ]
  },
  {
   "cell_type": "code",
   "execution_count": 280,
   "id": "f87258cd",
   "metadata": {},
   "outputs": [],
   "source": [
    "model_df['venue_encoded']=venue_encoder.fit_transform(model_df['venue'])"
   ]
  },
  {
   "cell_type": "code",
   "execution_count": 281,
   "id": "153eb300",
   "metadata": {},
   "outputs": [],
   "source": [
    "model_df['team_encoded']=team_encoder.fit_transform(model_df['batting_team'])"
   ]
  },
  {
   "cell_type": "code",
   "execution_count": 282,
   "id": "9079765d",
   "metadata": {},
   "outputs": [],
   "source": [
    "##Scale values\n",
    "minmaxscaler=MinMaxScaler()"
   ]
  },
  {
   "cell_type": "code",
   "execution_count": 283,
   "id": "4597962c",
   "metadata": {},
   "outputs": [],
   "source": [
    "mdf_x=model_df.loc[:,['innings','total_runs_venueavg','total_runs_teamavg','venue_encoded','team_encoded','wicket_type','wicket_type_teamavg']]"
   ]
  },
  {
   "cell_type": "code",
   "execution_count": 323,
   "id": "758ea223",
   "metadata": {},
   "outputs": [],
   "source": [
    "X=minmaxscaler.fit_transform(mdf_x)"
   ]
  },
  {
   "cell_type": "code",
   "execution_count": 335,
   "id": "69436eab",
   "metadata": {},
   "outputs": [
    {
     "data": {
      "text/html": [
       "<div>\n",
       "<style scoped>\n",
       "    .dataframe tbody tr th:only-of-type {\n",
       "        vertical-align: middle;\n",
       "    }\n",
       "\n",
       "    .dataframe tbody tr th {\n",
       "        vertical-align: top;\n",
       "    }\n",
       "\n",
       "    .dataframe thead th {\n",
       "        text-align: right;\n",
       "    }\n",
       "</style>\n",
       "<table border=\"1\" class=\"dataframe\">\n",
       "  <thead>\n",
       "    <tr style=\"text-align: right;\">\n",
       "      <th></th>\n",
       "      <th>innings</th>\n",
       "      <th>total_runs_venueavg</th>\n",
       "      <th>total_runs_teamavg</th>\n",
       "      <th>venue_encoded</th>\n",
       "      <th>team_encoded</th>\n",
       "      <th>wicket_type</th>\n",
       "      <th>wicket_type_teamavg</th>\n",
       "    </tr>\n",
       "  </thead>\n",
       "  <tbody>\n",
       "    <tr>\n",
       "      <th>0</th>\n",
       "      <td>1</td>\n",
       "      <td>38.0</td>\n",
       "      <td>42.75</td>\n",
       "      <td>13</td>\n",
       "      <td>3</td>\n",
       "      <td>0.5</td>\n",
       "      <td>0.75</td>\n",
       "    </tr>\n",
       "    <tr>\n",
       "      <th>1</th>\n",
       "      <td>1</td>\n",
       "      <td>38.0</td>\n",
       "      <td>42.75</td>\n",
       "      <td>13</td>\n",
       "      <td>3</td>\n",
       "      <td>0.5</td>\n",
       "      <td>0.75</td>\n",
       "    </tr>\n",
       "    <tr>\n",
       "      <th>2</th>\n",
       "      <td>1</td>\n",
       "      <td>38.0</td>\n",
       "      <td>42.75</td>\n",
       "      <td>13</td>\n",
       "      <td>3</td>\n",
       "      <td>0.5</td>\n",
       "      <td>0.75</td>\n",
       "    </tr>\n",
       "    <tr>\n",
       "      <th>3</th>\n",
       "      <td>1</td>\n",
       "      <td>38.0</td>\n",
       "      <td>42.75</td>\n",
       "      <td>13</td>\n",
       "      <td>3</td>\n",
       "      <td>0.5</td>\n",
       "      <td>0.75</td>\n",
       "    </tr>\n",
       "    <tr>\n",
       "      <th>4</th>\n",
       "      <td>1</td>\n",
       "      <td>38.0</td>\n",
       "      <td>42.75</td>\n",
       "      <td>13</td>\n",
       "      <td>3</td>\n",
       "      <td>0.5</td>\n",
       "      <td>0.75</td>\n",
       "    </tr>\n",
       "    <tr>\n",
       "      <th>...</th>\n",
       "      <td>...</td>\n",
       "      <td>...</td>\n",
       "      <td>...</td>\n",
       "      <td>...</td>\n",
       "      <td>...</td>\n",
       "      <td>...</td>\n",
       "      <td>...</td>\n",
       "    </tr>\n",
       "    <tr>\n",
       "      <th>399</th>\n",
       "      <td>2</td>\n",
       "      <td>46.5</td>\n",
       "      <td>53.25</td>\n",
       "      <td>2</td>\n",
       "      <td>7</td>\n",
       "      <td>2.5</td>\n",
       "      <td>0.75</td>\n",
       "    </tr>\n",
       "    <tr>\n",
       "      <th>400</th>\n",
       "      <td>2</td>\n",
       "      <td>46.5</td>\n",
       "      <td>53.25</td>\n",
       "      <td>2</td>\n",
       "      <td>7</td>\n",
       "      <td>2.5</td>\n",
       "      <td>0.75</td>\n",
       "    </tr>\n",
       "    <tr>\n",
       "      <th>401</th>\n",
       "      <td>2</td>\n",
       "      <td>57.0</td>\n",
       "      <td>53.25</td>\n",
       "      <td>11</td>\n",
       "      <td>7</td>\n",
       "      <td>0.5</td>\n",
       "      <td>0.75</td>\n",
       "    </tr>\n",
       "    <tr>\n",
       "      <th>402</th>\n",
       "      <td>2</td>\n",
       "      <td>57.0</td>\n",
       "      <td>53.25</td>\n",
       "      <td>11</td>\n",
       "      <td>7</td>\n",
       "      <td>0.5</td>\n",
       "      <td>0.75</td>\n",
       "    </tr>\n",
       "    <tr>\n",
       "      <th>403</th>\n",
       "      <td>2</td>\n",
       "      <td>57.0</td>\n",
       "      <td>53.25</td>\n",
       "      <td>11</td>\n",
       "      <td>7</td>\n",
       "      <td>0.5</td>\n",
       "      <td>0.75</td>\n",
       "    </tr>\n",
       "  </tbody>\n",
       "</table>\n",
       "<p>404 rows × 7 columns</p>\n",
       "</div>"
      ],
      "text/plain": [
       "    innings  total_runs_venueavg  total_runs_teamavg  venue_encoded  \\\n",
       "0         1                 38.0               42.75             13   \n",
       "1         1                 38.0               42.75             13   \n",
       "2         1                 38.0               42.75             13   \n",
       "3         1                 38.0               42.75             13   \n",
       "4         1                 38.0               42.75             13   \n",
       "..      ...                  ...                 ...            ...   \n",
       "399       2                 46.5               53.25              2   \n",
       "400       2                 46.5               53.25              2   \n",
       "401       2                 57.0               53.25             11   \n",
       "402       2                 57.0               53.25             11   \n",
       "403       2                 57.0               53.25             11   \n",
       "\n",
       "     team_encoded  wicket_type  wicket_type_teamavg  \n",
       "0               3          0.5                 0.75  \n",
       "1               3          0.5                 0.75  \n",
       "2               3          0.5                 0.75  \n",
       "3               3          0.5                 0.75  \n",
       "4               3          0.5                 0.75  \n",
       "..            ...          ...                  ...  \n",
       "399             7          2.5                 0.75  \n",
       "400             7          2.5                 0.75  \n",
       "401             7          0.5                 0.75  \n",
       "402             7          0.5                 0.75  \n",
       "403             7          0.5                 0.75  \n",
       "\n",
       "[404 rows x 7 columns]"
      ]
     },
     "execution_count": 335,
     "metadata": {},
     "output_type": "execute_result"
    }
   ],
   "source": [
    "mdf_x"
   ]
  },
  {
   "cell_type": "code",
   "execution_count": 324,
   "id": "7f3ca282",
   "metadata": {},
   "outputs": [],
   "source": [
    "#X=mdf_x"
   ]
  },
  {
   "cell_type": "code",
   "execution_count": 325,
   "id": "12a5fbf4",
   "metadata": {},
   "outputs": [],
   "source": [
    "y=np.array(model_df['total_runs'])"
   ]
  },
  {
   "cell_type": "code",
   "execution_count": 326,
   "id": "bf674efc",
   "metadata": {},
   "outputs": [],
   "source": [
    "from sklearn.model_selection import train_test_split"
   ]
  },
  {
   "cell_type": "code",
   "execution_count": 327,
   "id": "94243b76",
   "metadata": {},
   "outputs": [],
   "source": [
    "X_train,X_test,y_train,y_test=train_test_split(X,y,test_size=0.2,random_state=42)"
   ]
  },
  {
   "cell_type": "code",
   "execution_count": 328,
   "id": "a52f53a2",
   "metadata": {},
   "outputs": [],
   "source": [
    "model=LinearRegression()\n",
    "\n",
    "# model=RandomForestRegressor()"
   ]
  },
  {
   "cell_type": "code",
   "execution_count": 329,
   "id": "31eb584a",
   "metadata": {},
   "outputs": [],
   "source": [
    "# from sklearn.ensemble import RandomForestRegressor\n",
    "\n",
    "# model=RandomForestRegressor()"
   ]
  },
  {
   "cell_type": "code",
   "execution_count": 330,
   "id": "afe6ce4a",
   "metadata": {},
   "outputs": [
    {
     "data": {
      "text/plain": [
       "LinearRegression()"
      ]
     },
     "execution_count": 330,
     "metadata": {},
     "output_type": "execute_result"
    }
   ],
   "source": [
    "model.fit(X_train,y_train)"
   ]
  },
  {
   "cell_type": "code",
   "execution_count": 331,
   "id": "6ae98a47",
   "metadata": {},
   "outputs": [],
   "source": [
    "# model.coef_"
   ]
  },
  {
   "cell_type": "code",
   "execution_count": 332,
   "id": "0b7a88cd",
   "metadata": {},
   "outputs": [],
   "source": [
    "pred=np.round(model.predict(X_test),0)"
   ]
  },
  {
   "cell_type": "code",
   "execution_count": 333,
   "id": "ed92df17",
   "metadata": {},
   "outputs": [],
   "source": [
    "from sklearn.metrics import mean_squared_error"
   ]
  },
  {
   "cell_type": "code",
   "execution_count": 334,
   "id": "938ae20a",
   "metadata": {},
   "outputs": [
    {
     "data": {
      "text/plain": [
       "121.1358024691358"
      ]
     },
     "execution_count": 334,
     "metadata": {},
     "output_type": "execute_result"
    }
   ],
   "source": [
    "mean_squared_error(y_test,pred)"
   ]
  },
  {
   "cell_type": "code",
   "execution_count": 310,
   "id": "b8775908",
   "metadata": {},
   "outputs": [
    {
     "data": {
      "text/plain": [
       "array([48., 44., 52., 49., 50., 49., 44., 50., 50., 53., 50., 49., 46.,\n",
       "       52., 44., 47., 43., 48., 44., 47., 50., 51., 47., 44., 47., 52.,\n",
       "       46., 44., 46., 45., 49., 46., 45., 46., 50., 53., 48., 50., 46.,\n",
       "       51., 50., 53., 45., 49., 46., 52., 45., 47., 46., 46., 45., 43.,\n",
       "       47., 48., 53., 50., 48., 49., 50., 47., 48., 45., 45., 45., 50.,\n",
       "       48., 51., 46., 43., 52., 49., 50., 49., 45., 45., 45., 48., 45.,\n",
       "       50., 51., 50.])"
      ]
     },
     "execution_count": 310,
     "metadata": {},
     "output_type": "execute_result"
    }
   ],
   "source": [
    "pred"
   ]
  },
  {
   "cell_type": "code",
   "execution_count": 311,
   "id": "c3f6750a",
   "metadata": {},
   "outputs": [
    {
     "data": {
      "text/plain": [
       "array([36, 42, 68, 51, 59, 22, 49, 43, 58, 46, 34, 36, 67, 35, 36, 34, 69,\n",
       "       57, 62, 52, 58, 40, 36, 48, 33, 51, 50, 53, 29, 41, 46, 32, 39, 70,\n",
       "       60, 69, 45, 53, 51, 59, 55, 51, 50, 45, 49, 72, 41, 47, 54, 47, 49,\n",
       "       52, 36, 51, 51, 31, 46, 41, 37, 61, 36, 42, 63, 59, 43, 28, 48, 53,\n",
       "       48, 61, 57, 55, 63, 43, 50, 60, 39, 54, 48, 41, 56])"
      ]
     },
     "execution_count": 311,
     "metadata": {},
     "output_type": "execute_result"
    }
   ],
   "source": [
    "y_test"
   ]
  },
  {
   "cell_type": "markdown",
   "id": "fc1dd275",
   "metadata": {},
   "source": [
    "### Save training artefacts for testing pipeline"
   ]
  },
  {
   "cell_type": "code",
   "execution_count": 194,
   "id": "0be045c5",
   "metadata": {},
   "outputs": [],
   "source": [
    "import joblib"
   ]
  },
  {
   "cell_type": "code",
   "execution_count": 195,
   "id": "84a59541",
   "metadata": {},
   "outputs": [
    {
     "data": {
      "text/plain": [
       "['./submission/model.joblib']"
      ]
     },
     "execution_count": 195,
     "metadata": {},
     "output_type": "execute_result"
    }
   ],
   "source": [
    "joblib.dump(model,'./submission/model.joblib')"
   ]
  },
  {
   "cell_type": "code",
   "execution_count": 196,
   "id": "8d29dffb",
   "metadata": {},
   "outputs": [
    {
     "data": {
      "text/plain": [
       "['./submission/team_encoder.joblib']"
      ]
     },
     "execution_count": 196,
     "metadata": {},
     "output_type": "execute_result"
    }
   ],
   "source": [
    "joblib.dump(team_encoder,'./submission/team_encoder.joblib')"
   ]
  },
  {
   "cell_type": "code",
   "execution_count": 197,
   "id": "3327fcf8",
   "metadata": {},
   "outputs": [
    {
     "data": {
      "text/plain": [
       "['./submission/min_max_scaler.joblib']"
      ]
     },
     "execution_count": 197,
     "metadata": {},
     "output_type": "execute_result"
    }
   ],
   "source": [
    "joblib.dump(minmaxscaler, './submission/min_max_scaler.joblib') "
   ]
  },
  {
   "cell_type": "code",
   "execution_count": 198,
   "id": "d85210c3",
   "metadata": {},
   "outputs": [
    {
     "data": {
      "text/plain": [
       "['./submission/venue_encoder.joblib']"
      ]
     },
     "execution_count": 198,
     "metadata": {},
     "output_type": "execute_result"
    }
   ],
   "source": [
    "joblib.dump(venue_encoder,'./submission/venue_encoder.joblib')"
   ]
  },
  {
   "cell_type": "code",
   "execution_count": 199,
   "id": "67644113",
   "metadata": {},
   "outputs": [],
   "source": [
    "vdf_lastn.to_csv('./submission/vdf.csv',index=False)"
   ]
  },
  {
   "cell_type": "code",
   "execution_count": 200,
   "id": "7b63a040",
   "metadata": {},
   "outputs": [],
   "source": [
    "tdf_lastn.to_csv('./submission/tdf.csv',index=False)"
   ]
  },
  {
   "cell_type": "markdown",
   "id": "b6a2cf66",
   "metadata": {},
   "source": [
    "### Testing pipeline"
   ]
  },
  {
   "cell_type": "code",
   "execution_count": 201,
   "id": "148e6c43",
   "metadata": {},
   "outputs": [],
   "source": [
    "test_df=pd.read_csv('./submission/inputFile.csv')\n",
    "\n",
    "# tdf=test_df.loc[:,['venue','innings','batting_team']]\n",
    "\n",
    "# tdf"
   ]
  },
  {
   "cell_type": "code",
   "execution_count": 211,
   "id": "1397f06f",
   "metadata": {},
   "outputs": [],
   "source": [
    "##Check wickets lost in innings\n",
    "\n",
    "wkt_factor=(test_df['batsmen'].apply(lambda x:len(x.split(',')))[0]-2)*7\n",
    "\n"
   ]
  },
  {
   "cell_type": "code",
   "execution_count": 212,
   "id": "55ce794c",
   "metadata": {},
   "outputs": [
    {
     "data": {
      "text/plain": [
       "0"
      ]
     },
     "execution_count": 212,
     "metadata": {},
     "output_type": "execute_result"
    }
   ],
   "source": []
  },
  {
   "cell_type": "code",
   "execution_count": 67,
   "id": "e0374b3e",
   "metadata": {},
   "outputs": [],
   "source": [
    "tdf=tdf.merge(vdf_lastn,on=['venue','innings'],suffixes=('','_venueavg'))\n",
    "tdf=tdf.merge(tdf_lastn,on=['batting_team','innings'],suffixes=('','_teamavg'))"
   ]
  },
  {
   "cell_type": "code",
   "execution_count": 68,
   "id": "5e2f3323",
   "metadata": {},
   "outputs": [],
   "source": [
    "tdf['venue_encoded']=venue_encoder.transform(tdf['venue'])"
   ]
  },
  {
   "cell_type": "code",
   "execution_count": 69,
   "id": "dce120ec",
   "metadata": {},
   "outputs": [],
   "source": [
    "tdf['team_encoded']=team_encoder.transform(tdf['batting_team'])"
   ]
  },
  {
   "cell_type": "code",
   "execution_count": 70,
   "id": "80b42f02",
   "metadata": {},
   "outputs": [],
   "source": [
    "tdf.columns=['venue', 'innings', 'batting_team', 'total_runs_venueavg', 'wicket_type',\n",
    "       'total_runs_teamavg', 'wicket_type_teamavg', 'venue_encoded',\n",
    "       'team_encoded']"
   ]
  },
  {
   "cell_type": "code",
   "execution_count": 71,
   "id": "4a60972b",
   "metadata": {},
   "outputs": [],
   "source": [
    "tdf_x=tdf.loc[:,['innings','total_runs_venueavg','total_runs_teamavg','venue_encoded','team_encoded','wicket_type','wicket_type_teamavg']]"
   ]
  },
  {
   "cell_type": "code",
   "execution_count": 72,
   "id": "4a61818d",
   "metadata": {},
   "outputs": [
    {
     "data": {
      "text/html": [
       "<div>\n",
       "<style scoped>\n",
       "    .dataframe tbody tr th:only-of-type {\n",
       "        vertical-align: middle;\n",
       "    }\n",
       "\n",
       "    .dataframe tbody tr th {\n",
       "        vertical-align: top;\n",
       "    }\n",
       "\n",
       "    .dataframe thead th {\n",
       "        text-align: right;\n",
       "    }\n",
       "</style>\n",
       "<table border=\"1\" class=\"dataframe\">\n",
       "  <thead>\n",
       "    <tr style=\"text-align: right;\">\n",
       "      <th></th>\n",
       "      <th>innings</th>\n",
       "      <th>total_runs_venueavg</th>\n",
       "      <th>total_runs_teamavg</th>\n",
       "      <th>venue_encoded</th>\n",
       "      <th>team_encoded</th>\n",
       "      <th>wicket_type</th>\n",
       "      <th>wicket_type_teamavg</th>\n",
       "    </tr>\n",
       "  </thead>\n",
       "  <tbody>\n",
       "    <tr>\n",
       "      <th>0</th>\n",
       "      <td>1</td>\n",
       "      <td>46.785714</td>\n",
       "      <td>45.892857</td>\n",
       "      <td>8</td>\n",
       "      <td>1</td>\n",
       "      <td>1.071429</td>\n",
       "      <td>1.5</td>\n",
       "    </tr>\n",
       "  </tbody>\n",
       "</table>\n",
       "</div>"
      ],
      "text/plain": [
       "   innings  total_runs_venueavg  total_runs_teamavg  venue_encoded  \\\n",
       "0        1            46.785714           45.892857              8   \n",
       "\n",
       "   team_encoded  wicket_type  wicket_type_teamavg  \n",
       "0             1     1.071429                  1.5  "
      ]
     },
     "execution_count": 72,
     "metadata": {},
     "output_type": "execute_result"
    }
   ],
   "source": [
    "tdf_x"
   ]
  },
  {
   "cell_type": "code",
   "execution_count": 73,
   "id": "7defbb26",
   "metadata": {},
   "outputs": [],
   "source": [
    "Xt=minmaxscaler.transform(tdf_x)"
   ]
  },
  {
   "cell_type": "code",
   "execution_count": 74,
   "id": "d12f39b6",
   "metadata": {},
   "outputs": [
    {
     "data": {
      "text/plain": [
       "47"
      ]
     },
     "execution_count": 74,
     "metadata": {},
     "output_type": "execute_result"
    }
   ],
   "source": [
    "pred=int(np.round(model.predict(Xt),0))\n",
    "\n",
    "pred"
   ]
  },
  {
   "cell_type": "code",
   "execution_count": 77,
   "id": "c616f06d",
   "metadata": {},
   "outputs": [],
   "source": [
    "y_true=[54]\n",
    "\n",
    "pred=[pred]"
   ]
  },
  {
   "cell_type": "code",
   "execution_count": 78,
   "id": "a752eba7",
   "metadata": {},
   "outputs": [
    {
     "data": {
      "text/plain": [
       "49.0"
      ]
     },
     "execution_count": 78,
     "metadata": {},
     "output_type": "execute_result"
    }
   ],
   "source": [
    "mean_squared_error(y_true,pred)"
   ]
  },
  {
   "cell_type": "markdown",
   "id": "8714488e",
   "metadata": {},
   "source": [
    "### Powerplay specific features for 2018, 2019. Try to use it on 2021"
   ]
  },
  {
   "cell_type": "code",
   "execution_count": null,
   "id": "b741c118",
   "metadata": {},
   "outputs": [],
   "source": [
    "match_df=cdf.loc[cdf['match_id']==1136565]"
   ]
  },
  {
   "cell_type": "code",
   "execution_count": null,
   "id": "722ca983",
   "metadata": {},
   "outputs": [],
   "source": [
    "match_df"
   ]
  },
  {
   "cell_type": "code",
   "execution_count": null,
   "id": "1c4608d3",
   "metadata": {},
   "outputs": [],
   "source": [
    "pp_score1=int(match_df.loc[(match_df['phase']=='PowerPlay')&(match_df['innings']==1)]['total_runs'].sum())\n",
    "pp_score2=int(match_df.loc[(match_df['phase']=='PowerPlay')&(match_df['innings']==2)]['total_runs'].sum())"
   ]
  },
  {
   "cell_type": "code",
   "execution_count": null,
   "id": "940b8258",
   "metadata": {},
   "outputs": [],
   "source": [
    "pp_batters1=match_df.loc[(match_df['phase']=='PowerPlay')&(match_df['innings']==1),['striker','non_striker']].melt()['value'].drop_duplicates().tolist()\n",
    "pp_batters1.sort()\n",
    "pp_batters2=match_df.loc[(match_df['phase']=='PowerPlay')&(match_df['innings']==2),['striker','non_striker']].melt()['value'].drop_duplicates().tolist()\n",
    "pp_batters2.sort()"
   ]
  },
  {
   "cell_type": "code",
   "execution_count": null,
   "id": "9014ce7b",
   "metadata": {},
   "outputs": [],
   "source": [
    "pp_batters1, pp_batters2"
   ]
  },
  {
   "cell_type": "code",
   "execution_count": null,
   "id": "399afdf0",
   "metadata": {},
   "outputs": [],
   "source": [
    "pp_bowlers1=match_df.loc[(match_df['phase']=='PowerPlay')&(match_df['innings']==1),['bowler']].melt()['value'].drop_duplicates().tolist()\n",
    "pp_bowlers1.sort()\n",
    "\n",
    "\n",
    "pp_bowlers2=match_df.loc[(match_df['phase']=='PowerPlay')&(match_df['innings']==2),['bowler']].melt()['value'].drop_duplicates().tolist()\n",
    "pp_bowlers2.sort()"
   ]
  },
  {
   "cell_type": "code",
   "execution_count": null,
   "id": "efb67ec7",
   "metadata": {},
   "outputs": [],
   "source": [
    "pp_bowlers1,pp_bowlers2"
   ]
  },
  {
   "cell_type": "code",
   "execution_count": null,
   "id": "ecbfc729",
   "metadata": {},
   "outputs": [],
   "source": [
    "match_df"
   ]
  },
  {
   "cell_type": "code",
   "execution_count": null,
   "id": "f3a20bbc",
   "metadata": {},
   "outputs": [],
   "source": []
  }
 ],
 "metadata": {
  "kernelspec": {
   "display_name": "Python 3",
   "language": "python",
   "name": "python3"
  },
  "language_info": {
   "codemirror_mode": {
    "name": "ipython",
    "version": 3
   },
   "file_extension": ".py",
   "mimetype": "text/x-python",
   "name": "python",
   "nbconvert_exporter": "python",
   "pygments_lexer": "ipython3",
   "version": "3.8.9"
  }
 },
 "nbformat": 4,
 "nbformat_minor": 5
}
