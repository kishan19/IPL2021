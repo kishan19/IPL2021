{
 "cells": [
  {
   "cell_type": "markdown",
   "id": "6f3ae31d",
   "metadata": {},
   "source": [
    "#### Steps in this notebook\n",
    "- Clean Cricsheet data, create basic model\n",
    "- Run basic model for testing"
   ]
  },
  {
   "cell_type": "code",
   "execution_count": 141,
   "id": "6d71bfb3",
   "metadata": {},
   "outputs": [],
   "source": [
    "import pandas as pd\n",
    "import numpy as np\n",
    "import math"
   ]
  },
  {
   "cell_type": "code",
   "execution_count": 16,
   "id": "7d2672f6",
   "metadata": {},
   "outputs": [
    {
     "name": "stderr",
     "output_type": "stream",
     "text": [
      "/Users/kishan/Desktop/IPL/.ipl/lib/python3.8/site-packages/IPython/core/interactiveshell.py:3165: DtypeWarning: Columns (1) have mixed types.Specify dtype option on import or set low_memory=False.\n",
      "  has_raised = await self.run_ast_nodes(code_ast.body, cell_name,\n"
     ]
    }
   ],
   "source": [
    "cricsheet_df=pd.read_csv('./data/all_matches.csv')"
   ]
  },
  {
   "cell_type": "code",
   "execution_count": 52,
   "id": "1b2d97b6",
   "metadata": {},
   "outputs": [
    {
     "data": {
      "text/html": [
       "<div>\n",
       "<style scoped>\n",
       "    .dataframe tbody tr th:only-of-type {\n",
       "        vertical-align: middle;\n",
       "    }\n",
       "\n",
       "    .dataframe tbody tr th {\n",
       "        vertical-align: top;\n",
       "    }\n",
       "\n",
       "    .dataframe thead th {\n",
       "        text-align: right;\n",
       "    }\n",
       "</style>\n",
       "<table border=\"1\" class=\"dataframe\">\n",
       "  <thead>\n",
       "    <tr style=\"text-align: right;\">\n",
       "      <th></th>\n",
       "      <th>venue</th>\n",
       "      <th>innings</th>\n",
       "      <th>batting_team</th>\n",
       "      <th>bowling_team</th>\n",
       "      <th>batsmen</th>\n",
       "      <th>bowlers</th>\n",
       "    </tr>\n",
       "  </thead>\n",
       "  <tbody>\n",
       "    <tr>\n",
       "      <th>0</th>\n",
       "      <td>MA Chidambaram Stadium</td>\n",
       "      <td>1</td>\n",
       "      <td>Mumbai Indians</td>\n",
       "      <td>Kolkata Knight Riders</td>\n",
       "      <td>Quinton de Kock, Rohit Sharma, Suryakumar Yadav</td>\n",
       "      <td>Harbhajan Singh, Varun Chakravarthy, Shakib Al...</td>\n",
       "    </tr>\n",
       "  </tbody>\n",
       "</table>\n",
       "</div>"
      ],
      "text/plain": [
       "                    venue  innings    batting_team           bowling_team  \\\n",
       "0  MA Chidambaram Stadium        1  Mumbai Indians  Kolkata Knight Riders   \n",
       "\n",
       "                                           batsmen  \\\n",
       "0  Quinton de Kock, Rohit Sharma, Suryakumar Yadav   \n",
       "\n",
       "                                             bowlers  \n",
       "0  Harbhajan Singh, Varun Chakravarthy, Shakib Al...  "
      ]
     },
     "execution_count": 52,
     "metadata": {},
     "output_type": "execute_result"
    }
   ],
   "source": [
    "###Load input format dataframe\n",
    "\n",
    "test_df=pd.read_csv('./submission/inputFile.csv')\n",
    "\n",
    "test_df\n",
    "\n",
    "##Venue needs to go through standardizer\n",
    "## innigns is either 1 or 2\n",
    "## Batting team and bowling team better to go through standardizer, since KXIP has changed names between seasons\n",
    "## Batsmen list must be minimum 2 and bowlers list must be minimum 2\n",
    "## Need to standardize batter and bowlers\n",
    "## Batting and bowling types of batters and bowlers to be inferred from custom module"
   ]
  },
  {
   "cell_type": "markdown",
   "id": "6e72208c",
   "metadata": {},
   "source": [
    "#### Subsetting the given data\n",
    "\n",
    "- Remove seasons before 2018\n",
    "- Remove super over innings (innings>=3)\n",
    "- Remove unnecessary columns"
   ]
  },
  {
   "cell_type": "code",
   "execution_count": 17,
   "id": "93a9c601",
   "metadata": {},
   "outputs": [],
   "source": [
    "##no use of other wicket type and other player dismissed columns\n",
    "assert cricsheet_df.loc[~pd.isnull(cricsheet_df['other_wicket_type'])].shape[0]==0\n",
    "assert cricsheet_df.loc[~pd.isnull(cricsheet_df['other_player_dismissed'])].shape[0]==0"
   ]
  },
  {
   "cell_type": "code",
   "execution_count": 28,
   "id": "e122293f",
   "metadata": {},
   "outputs": [],
   "source": [
    "cricsheet_df.drop(columns=['other_wicket_type','other_player_dismissed'],axis=1,inplace=True)"
   ]
  },
  {
   "cell_type": "code",
   "execution_count": 29,
   "id": "07fac40e",
   "metadata": {},
   "outputs": [],
   "source": [
    "cricsheet_df['start_date']=pd.to_datetime(cricsheet_df['start_date'])"
   ]
  },
  {
   "cell_type": "code",
   "execution_count": 30,
   "id": "b056baa2",
   "metadata": {},
   "outputs": [
    {
     "name": "stderr",
     "output_type": "stream",
     "text": [
      "<ipython-input-30-ff7ecb1db089>:2: FutureWarning: Treating datetime data as categorical rather than numeric in `.describe` is deprecated and will be removed in a future version of pandas. Specify `datetime_is_numeric=True` to silence this warning and adopt the future behavior now.\n",
      "  cricsheet_df.loc[cricsheet_df['start_date']>='2018','start_date'].describe(include='all')\n"
     ]
    },
    {
     "data": {
      "text/plain": [
       "count                   43894\n",
       "unique                    149\n",
       "top       2020-10-18 00:00:00\n",
       "freq                      520\n",
       "first     2018-04-07 00:00:00\n",
       "last      2021-04-11 00:00:00\n",
       "Name: start_date, dtype: object"
      ]
     },
     "execution_count": 30,
     "metadata": {},
     "output_type": "execute_result"
    }
   ],
   "source": [
    "##Filter from 2018 April 7th\n",
    "cricsheet_df.loc[cricsheet_df['start_date']>='2018','start_date'].describe(include='all')"
   ]
  },
  {
   "cell_type": "code",
   "execution_count": 124,
   "id": "5a52a7a8",
   "metadata": {},
   "outputs": [],
   "source": [
    "cdf=cricsheet_df.loc[cricsheet_df['start_date']>='2018'].reset_index(drop=True)"
   ]
  },
  {
   "cell_type": "markdown",
   "id": "3fbd5a13",
   "metadata": {},
   "source": [
    "### EDA"
   ]
  },
  {
   "cell_type": "code",
   "execution_count": 125,
   "id": "54a8832e",
   "metadata": {
    "scrolled": true
   },
   "outputs": [
    {
     "data": {
      "text/plain": [
       "{'Arun Jaitley Stadium',\n",
       " 'Dr. Y.S. Rajasekhara Reddy ACA-VDCA Cricket Stadium',\n",
       " 'Dubai International Cricket Stadium',\n",
       " 'Eden Gardens',\n",
       " 'Holkar Cricket Stadium',\n",
       " 'M.Chinnaswamy Stadium',\n",
       " 'MA Chidambaram Stadium',\n",
       " 'MA Chidambaram Stadium, Chepauk, Chennai',\n",
       " 'Maharashtra Cricket Association Stadium',\n",
       " 'Punjab Cricket Association IS Bindra Stadium',\n",
       " 'Rajiv Gandhi International Stadium',\n",
       " 'Sawai Mansingh Stadium',\n",
       " 'Sharjah Cricket Stadium',\n",
       " 'Sheikh Zayed Stadium',\n",
       " 'Wankhede Stadium',\n",
       " 'Wankhede Stadium, Mumbai'}"
      ]
     },
     "execution_count": 125,
     "metadata": {},
     "output_type": "execute_result"
    }
   ],
   "source": [
    "##List of all venues in this\n",
    "set(cdf['venue'])"
   ]
  },
  {
   "cell_type": "markdown",
   "id": "e8b34049",
   "metadata": {},
   "source": [
    "#### There are 231 different IPL players across teams from 2018. "
   ]
  },
  {
   "cell_type": "code",
   "execution_count": 126,
   "id": "3e672051",
   "metadata": {},
   "outputs": [
    {
     "data": {
      "text/plain": [
       "(231,\n",
       " ['V Kohli',\n",
       "  'PA Patel',\n",
       "  'MM Ali',\n",
       "  'AB de Villiers',\n",
       "  'SO Hetmyer',\n",
       "  'S Dube',\n",
       "  'C de Grandhomme',\n",
       "  'NA Saini',\n",
       "  'YS Chahal',\n",
       "  'UT Yadav',\n",
       "  'Mohammed Siraj',\n",
       "  'SR Watson',\n",
       "  'AT Rayudu',\n",
       "  'SK Raina',\n",
       "  'KM Jadhav',\n",
       "  'RA Jadeja',\n",
       "  'DA Warner',\n",
       "  'JM Bairstow',\n",
       "  'V Shankar',\n",
       "  'YK Pathan',\n",
       "  'MK Pandey',\n",
       "  'CA Lynn',\n",
       "  'N Rana',\n",
       "  'RV Uthappa',\n",
       "  'KD Karthik',\n",
       "  'AD Russell',\n",
       "  'Shubman Gill',\n",
       "  'PP Shaw',\n",
       "  'S Dhawan',\n",
       "  'SS Iyer',\n",
       "  'CA Ingram',\n",
       "  'RR Pant',\n",
       "  'KMA Paul',\n",
       "  'AR Patel',\n",
       "  'R Tewatia',\n",
       "  'RG Sharma',\n",
       "  'Q de Kock',\n",
       "  'SA Yadav',\n",
       "  'KA Pollard',\n",
       "  'Yuvraj Singh',\n",
       "  'HH Pandya',\n",
       "  'KH Pandya',\n",
       "  'BCJ Cutting',\n",
       "  'MJ McClenaghan',\n",
       "  'Rasikh Salam',\n",
       "  'KL Rahul',\n",
       "  'MA Agarwal',\n",
       "  'CH Gayle',\n",
       "  'SN Khan',\n",
       "  'N Pooran',\n",
       "  'Mandeep Singh',\n",
       "  'AM Rahane',\n",
       "  'JC Buttler',\n",
       "  'SV Samson',\n",
       "  'SPD Smith',\n",
       "  'RA Tripathi',\n",
       "  'BA Stokes',\n",
       "  'K Gowtham',\n",
       "  'JC Archer',\n",
       "  'JD Unadkat',\n",
       "  'S Gopal',\n",
       "  'DS Kulkarni',\n",
       "  'MS Dhoni',\n",
       "  'DJ Bravo',\n",
       "  'SP Narine',\n",
       "  'DA Miller',\n",
       "  'M Markande',\n",
       "  'JJ Bumrah',\n",
       "  'KS Williamson',\n",
       "  'Rashid Khan',\n",
       "  'NS Naik',\n",
       "  'PP Chawla',\n",
       "  'Kuldeep Yadav',\n",
       "  'GH Vihari',\n",
       "  'P Ray Barman',\n",
       "  'SM Curran',\n",
       "  'GC Viljoen',\n",
       "  'R Ashwin',\n",
       "  'M Ashwin',\n",
       "  'Mohammed Shami',\n",
       "  'CH Morris',\n",
       "  'HV Patel',\n",
       "  'Avesh Khan',\n",
       "  'K Rabada',\n",
       "  'S Lamichhane',\n",
       "  'MP Stoinis',\n",
       "  'DL Chahar',\n",
       "  'SN Thakur',\n",
       "  'MM Sharma',\n",
       "  'DJ Hooda',\n",
       "  'Mohammad Nabi',\n",
       "  'F du Plessis',\n",
       "  'Ishan Kishan',\n",
       "  'RD Chahar',\n",
       "  'B Kumar',\n",
       "  'Sandeep Sharma',\n",
       "  'S Kaul',\n",
       "  'AD Nath',\n",
       "  'TG Southee',\n",
       "  'P Negi',\n",
       "  'M Prasidh Krishna',\n",
       "  'HF Gurney',\n",
       "  'KK Nair',\n",
       "  'SD Lad',\n",
       "  'AS Joseph',\n",
       "  'R Parag',\n",
       "  'MJ Santner',\n",
       "  'JL Denly',\n",
       "  'CR Brathwaite',\n",
       "  'LS Livingstone',\n",
       "  'C Munro',\n",
       "  'RK Bhui',\n",
       "  'Abhishek Sharma',\n",
       "  'KK Ahmed',\n",
       "  'Mujeeb Ur Rahman',\n",
       "  'AJ Turner',\n",
       "  'STR Binny',\n",
       "  'SW Billings',\n",
       "  'E Lewis',\n",
       "  'Harbhajan Singh',\n",
       "  'MA Wood',\n",
       "  'Imran Tahir',\n",
       "  'G Gambhir',\n",
       "  'DT Christian',\n",
       "  'BB McCullum',\n",
       "  'CR Woakes',\n",
       "  'RK Singh',\n",
       "  'R Vinay Kumar',\n",
       "  'DJM Short',\n",
       "  'B Laughlin',\n",
       "  'WP Saha',\n",
       "  'TK Curran',\n",
       "  'GJ Maxwell',\n",
       "  'PJ Sangwan',\n",
       "  'Shakib Al Hasan',\n",
       "  'B Stanlake',\n",
       "  'AJ Finch',\n",
       "  'AJ Tye',\n",
       "  'Washington Sundar',\n",
       "  'A Dananjaya',\n",
       "  'JJ Roy',\n",
       "  'Shivam Mavi',\n",
       "  'MG Johnson',\n",
       "  'M Vijay',\n",
       "  'S Nadeem',\n",
       "  'TA Boult',\n",
       "  'CJ Anderson',\n",
       "  'H Klaasen',\n",
       "  'M Vohra',\n",
       "  'BB Sran',\n",
       "  'LE Plunkett',\n",
       "  'A Mishra',\n",
       "  'Basil Thampi',\n",
       "  'Mustafizur Rahman',\n",
       "  'MK Tiwary',\n",
       "  'AS Rajpoot',\n",
       "  'AD Hales',\n",
       "  'MK Lomror',\n",
       "  'JP Duminy',\n",
       "  'DR Shorey',\n",
       "  'NV Ojha',\n",
       "  'P Chopra',\n",
       "  'JPR Scantlebury-Searles',\n",
       "  'IS Sodhi',\n",
       "  'Anureet Singh',\n",
       "  'SP Goswami',\n",
       "  'Harpreet Brar',\n",
       "  'SE Rutherford',\n",
       "  'Y Prithvi Raj',\n",
       "  'KC Cariappa',\n",
       "  'Gurkeerat Singh',\n",
       "  'P Simran Singh',\n",
       "  'J Suchith',\n",
       "  'MJ Guptill',\n",
       "  'VR Aaron',\n",
       "  'I Sharma',\n",
       "  'SS Tiwary',\n",
       "  'JL Pattinson',\n",
       "  'A Nortje',\n",
       "  'CJ Jordan',\n",
       "  'D Padikkal',\n",
       "  'JR Philippe',\n",
       "  'PK Garg',\n",
       "  'MR Marsh',\n",
       "  'T Natarajan',\n",
       "  'YBK Jaiswal',\n",
       "  'RD Gaikwad',\n",
       "  'EJG Morgan',\n",
       "  'PJ Cummins',\n",
       "  'DW Steyn',\n",
       "  'KL Nagarkoti',\n",
       "  'Abdul Samad',\n",
       "  'JDS Neesham',\n",
       "  'Ravi Bishnoi',\n",
       "  'I Udana',\n",
       "  'CV Varun',\n",
       "  'SS Cottrell',\n",
       "  'Arshdeep Singh',\n",
       "  'Kartik Tyagi',\n",
       "  'N Jagadeesan',\n",
       "  'AT Carey',\n",
       "  'T Banton',\n",
       "  'NM Coulter-Nile',\n",
       "  'LH Ferguson',\n",
       "  'TU Deshpande',\n",
       "  'JO Holder',\n",
       "  'Shahbaz Ahmed',\n",
       "  'P Dubey',\n",
       "  'DR Sams',\n",
       "  'M Jansen',\n",
       "  'RM Patidar',\n",
       "  'KA Jamieson',\n",
       "  'KV Sharma',\n",
       "  'SL Malinga',\n",
       "  'JP Behrendorff',\n",
       "  'SC Kuggeleijn',\n",
       "  'S Midhun',\n",
       "  'K Khejroliya',\n",
       "  'L Ngidi',\n",
       "  'KM Asif',\n",
       "  'DJ Willey',\n",
       "  'Ankit Sharma',\n",
       "  'CJ Dala',\n",
       "  'J Yadav',\n",
       "  'O Thomas',\n",
       "  'AS Roy',\n",
       "  'S Sandeep Warrier',\n",
       "  'JR Hazlewood',\n",
       "  'A Zampa',\n",
       "  'CJ Green',\n",
       "  'Monu Kumar'])"
      ]
     },
     "execution_count": 126,
     "metadata": {},
     "output_type": "execute_result"
    }
   ],
   "source": [
    "##List of all unique players in the dataset\n",
    "ipl_players=cdf.loc[:,['striker','non_striker','bowler']].drop_duplicates().melt()['value'].drop_duplicates().tolist()\n",
    "\n",
    "len(ipl_players),ipl_players"
   ]
  },
  {
   "cell_type": "code",
   "execution_count": 127,
   "id": "c5b2c2ba",
   "metadata": {},
   "outputs": [
    {
     "name": "stdout",
     "output_type": "stream",
     "text": [
      "{2018, 2019, '2019', '2018', '2020/21', '2021'}\n",
      "{'2020/21', '2018', '2019', '2021'}\n"
     ]
    }
   ],
   "source": [
    "### Format seasons\n",
    "print(set(cdf['season']))\n",
    "\n",
    "cdf['season']=cdf['season'].astype('str')\n",
    "print(set(cdf['season']))"
   ]
  },
  {
   "cell_type": "code",
   "execution_count": 128,
   "id": "84893196",
   "metadata": {},
   "outputs": [],
   "source": [
    "##Remove super overs and repeated super over instance from MI KXIP\n",
    "cdf=cdf.loc[cdf['innings']<=2]"
   ]
  },
  {
   "cell_type": "code",
   "execution_count": 129,
   "id": "0690307c",
   "metadata": {},
   "outputs": [
    {
     "data": {
      "text/plain": [
       "Dubai International Cricket Stadium                    6338\n",
       "Sheikh Zayed Stadium                                   5294\n",
       "Wankhede Stadium                                       3902\n",
       "Eden Gardens                                           3802\n",
       "Rajiv Gandhi International Stadium                     3609\n",
       "Arun Jaitley Stadium                                   3344\n",
       "Sawai Mansingh Stadium                                 3286\n",
       "M.Chinnaswamy Stadium                                  3246\n",
       "Sharjah Cricket Stadium                                2878\n",
       "Punjab Cricket Association IS Bindra Stadium           2429\n",
       "MA Chidambaram Stadium                                 2130\n",
       "Maharashtra Cricket Association Stadium                1467\n",
       "Holkar Cricket Stadium                                  873\n",
       "MA Chidambaram Stadium, Chepauk, Chennai                498\n",
       "Dr. Y.S. Rajasekhara Reddy ACA-VDCA Cricket Stadium     491\n",
       "Wankhede Stadium, Mumbai                                239\n",
       "Name: venue, dtype: int64"
      ]
     },
     "execution_count": 129,
     "metadata": {},
     "output_type": "execute_result"
    }
   ],
   "source": [
    "##Which venues need tweaking? For purposes of training\n",
    "cdf['venue'].value_counts(ascending=False)"
   ]
  },
  {
   "cell_type": "code",
   "execution_count": 130,
   "id": "46797e83",
   "metadata": {},
   "outputs": [],
   "source": [
    "cdf.loc[cdf['venue']=='MA Chidambaram Stadium, Chepauk, Chennai','venue']='MA Chidambaram Stadium'\n",
    "cdf.loc[cdf['venue']=='Wankhede Stadium, Mumbai','venue']='Wankhede Stadium'"
   ]
  },
  {
   "cell_type": "code",
   "execution_count": 131,
   "id": "f0b1b948",
   "metadata": {},
   "outputs": [
    {
     "data": {
      "text/plain": [
       "Dubai International Cricket Stadium                    6338\n",
       "Sheikh Zayed Stadium                                   5294\n",
       "Wankhede Stadium                                       4141\n",
       "Eden Gardens                                           3802\n",
       "Rajiv Gandhi International Stadium                     3609\n",
       "Arun Jaitley Stadium                                   3344\n",
       "Sawai Mansingh Stadium                                 3286\n",
       "M.Chinnaswamy Stadium                                  3246\n",
       "Sharjah Cricket Stadium                                2878\n",
       "MA Chidambaram Stadium                                 2628\n",
       "Punjab Cricket Association IS Bindra Stadium           2429\n",
       "Maharashtra Cricket Association Stadium                1467\n",
       "Holkar Cricket Stadium                                  873\n",
       "Dr. Y.S. Rajasekhara Reddy ACA-VDCA Cricket Stadium     491\n",
       "Name: venue, dtype: int64"
      ]
     },
     "execution_count": 131,
     "metadata": {},
     "output_type": "execute_result"
    }
   ],
   "source": [
    "cdf['venue'].value_counts(ascending=False)"
   ]
  },
  {
   "cell_type": "code",
   "execution_count": 132,
   "id": "cadee4f8",
   "metadata": {},
   "outputs": [
    {
     "data": {
      "text/plain": [
       "['Royal Challengers Bangalore',\n",
       " 'Chennai Super Kings',\n",
       " 'Sunrisers Hyderabad',\n",
       " 'Kolkata Knight Riders',\n",
       " 'Delhi Capitals',\n",
       " 'Mumbai Indians',\n",
       " 'Kings XI Punjab',\n",
       " 'Rajasthan Royals',\n",
       " 'Delhi Daredevils']"
      ]
     },
     "execution_count": 132,
     "metadata": {},
     "output_type": "execute_result"
    }
   ],
   "source": [
    "##List of all unique teams in the dataset\n",
    "ipl_teams=cdf.loc[:,['batting_team','bowling_team']].drop_duplicates().melt()['value'].drop_duplicates().tolist()\n",
    "ipl_teams\n",
    "##Change Delhi Daredevils to Delhi Capitals\n",
    "##Change Kings XI Punjab to Punjab Kings"
   ]
  },
  {
   "cell_type": "code",
   "execution_count": 133,
   "id": "bb035bcb",
   "metadata": {},
   "outputs": [],
   "source": [
    "cdf.loc[cdf['batting_team']=='Delhi Daredevils','batting_team']='Delhi Capitals'\n",
    "cdf.loc[cdf['bowling_team']=='Delhi Daredevils','bowling_team']='Delhi Capitals'\n",
    "cdf.loc[cdf['batting_team']=='Kings XI Punjab','batting_team']='Punjab Kings'\n",
    "cdf.loc[cdf['bowling_team']=='Kings XI Punjab','bowling_team']='Punjab Kings'"
   ]
  },
  {
   "cell_type": "code",
   "execution_count": 134,
   "id": "429ae0e8",
   "metadata": {},
   "outputs": [
    {
     "data": {
      "text/plain": [
       "['Royal Challengers Bangalore',\n",
       " 'Chennai Super Kings',\n",
       " 'Sunrisers Hyderabad',\n",
       " 'Kolkata Knight Riders',\n",
       " 'Delhi Capitals',\n",
       " 'Mumbai Indians',\n",
       " 'Punjab Kings',\n",
       " 'Rajasthan Royals']"
      ]
     },
     "execution_count": 134,
     "metadata": {},
     "output_type": "execute_result"
    }
   ],
   "source": [
    "##Changed teams list\n",
    "\n",
    "cdf.loc[:,['batting_team','bowling_team']].drop_duplicates().melt()['value'].drop_duplicates().tolist()"
   ]
  },
  {
   "cell_type": "code",
   "execution_count": 137,
   "id": "6fc44a55",
   "metadata": {},
   "outputs": [],
   "source": [
    "##Extras column has captured type of extras\n",
    "##At test time we will not have ball by ball information, do we need to hold a split of extras in that case??\n",
    "cdf.drop(columns=['wides','noballs','byes','legbyes','penalty'],inplace=True)"
   ]
  },
  {
   "cell_type": "markdown",
   "id": "7cb4488f",
   "metadata": {},
   "source": [
    "### Derive new features"
   ]
  },
  {
   "cell_type": "code",
   "execution_count": 139,
   "id": "4dd834c2",
   "metadata": {},
   "outputs": [],
   "source": [
    "cdf['total_runs']=cdf['runs_off_bat']+cdf['extras']"
   ]
  },
  {
   "cell_type": "code",
   "execution_count": 142,
   "id": "0918496b",
   "metadata": {},
   "outputs": [],
   "source": [
    "##Get over number\n",
    "cdf['over_number']=cdf['ball'].apply(lambda x:int(math.ceil(x)))"
   ]
  },
  {
   "cell_type": "code",
   "execution_count": 143,
   "id": "5996a9f9",
   "metadata": {},
   "outputs": [],
   "source": [
    "def phase_cat(over_number):\n",
    "    '''Determine phase'''\n",
    "    if over_number<=6:\n",
    "        phase=\"PowerPlay\"\n",
    "    if (over_number>6) & (over_number<=15):\n",
    "        phase=\"Middle overs\"\n",
    "    if over_number>15:\n",
    "        phase=\"Death overs\"\n",
    "    return phase"
   ]
  },
  {
   "cell_type": "code",
   "execution_count": 144,
   "id": "6c8a87e8",
   "metadata": {},
   "outputs": [],
   "source": [
    "cdf['phase']=cdf['over_number'].apply(phase_cat)"
   ]
  },
  {
   "cell_type": "code",
   "execution_count": 146,
   "id": "caf20ad1",
   "metadata": {},
   "outputs": [],
   "source": [
    "cdf.to_csv('./data/cleaned_cricsheet.csv',index=False)"
   ]
  },
  {
   "cell_type": "code",
   "execution_count": null,
   "id": "5ec28f55",
   "metadata": {},
   "outputs": [],
   "source": []
  }
 ],
 "metadata": {
  "kernelspec": {
   "display_name": "Python 3",
   "language": "python",
   "name": "python3"
  },
  "language_info": {
   "codemirror_mode": {
    "name": "ipython",
    "version": 3
   },
   "file_extension": ".py",
   "mimetype": "text/x-python",
   "name": "python",
   "nbconvert_exporter": "python",
   "pygments_lexer": "ipython3",
   "version": "3.8.9"
  }
 },
 "nbformat": 4,
 "nbformat_minor": 5
}
